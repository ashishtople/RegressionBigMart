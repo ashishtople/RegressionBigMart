{
 "cells": [
  {
   "cell_type": "code",
   "execution_count": 361,
   "metadata": {},
   "outputs": [],
   "source": [
    "### Importing the libraries\n",
    "import pandas as pd\n",
    "import numpy as np\n",
    "import matplotlib.pyplot as plt\n",
    "import seaborn as sns\n",
    "sns.set_style('whitegrid')\n",
    "%matplotlib inline\n",
    "\n",
    "from  sklearn.model_selection import train_test_split , StratifiedKFold\n",
    "\n",
    "import warnings \n",
    "warnings.simplefilter('ignore')"
   ]
  },
  {
   "cell_type": "code",
   "execution_count": 362,
   "metadata": {},
   "outputs": [],
   "source": [
    "## Read Data files \n",
    "train = pd.read_csv('D:\\\\Ashish\\\\Projects\\\\Hackethon Problems\\\\BigMart_Regression_problem\\\\train_v9rqX0R.csv')\n",
    "test = pd.read_csv('D:\\\\Ashish\\\\Projects\\\\Hackethon Problems\\\\BigMart_Regression_problem\\\\test_AbJTz2l.csv')\n",
    "submission = pd.read_csv('D:\\\\Ashish\\\\Projects\\\\Hackethon Problems\\\\BigMart_Regression_problem\\\\sample_submission_8RXa3c6.csv')"
   ]
  },
  {
   "cell_type": "code",
   "execution_count": 363,
   "metadata": {},
   "outputs": [
    {
     "name": "stdout",
     "output_type": "stream",
     "text": [
      "Train data Shape :  (8523, 12)\n",
      "Test data Shape :  (5681, 11)\n",
      "Submission data Shape :  (5681, 3)\n",
      "#########################################\n",
      "Null Data Details - Train data\n",
      "Item_Identifier                 0\n",
      "Item_Weight                  1463\n",
      "Item_Fat_Content                0\n",
      "Item_Visibility                 0\n",
      "Item_Type                       0\n",
      "Item_MRP                        0\n",
      "Outlet_Identifier               0\n",
      "Outlet_Establishment_Year       0\n",
      "Outlet_Size                  2410\n",
      "Outlet_Location_Type            0\n",
      "Outlet_Type                     0\n",
      "Item_Outlet_Sales               0\n",
      "dtype: int64\n",
      "#########################################\n",
      "Null Data Details - Test data\n",
      "Item_Identifier                 0\n",
      "Item_Weight                   976\n",
      "Item_Fat_Content                0\n",
      "Item_Visibility                 0\n",
      "Item_Type                       0\n",
      "Item_MRP                        0\n",
      "Outlet_Identifier               0\n",
      "Outlet_Establishment_Year       0\n",
      "Outlet_Size                  1606\n",
      "Outlet_Location_Type            0\n",
      "Outlet_Type                     0\n",
      "dtype: int64\n"
     ]
    }
   ],
   "source": [
    "#### Get Basic Details of the data files\n",
    "print('Train data Shape : ' , train.shape)\n",
    "print('Test data Shape : ' , test.shape)\n",
    "print('Submission data Shape : ' , submission.shape)\n",
    "\n",
    "print('#########################################')\n",
    "print('Null Data Details - Train data')\n",
    "print(train.isnull().sum())\n",
    "\n",
    "print('#########################################')\n",
    "print('Null Data Details - Test data')\n",
    "print(test.isnull().sum())"
   ]
  },
  {
   "cell_type": "markdown",
   "metadata": {},
   "source": [
    "##### Observation -- >\n",
    "Both Train & test data has Null values for Item_Weight & Outlet_Size which needs to be fixed."
   ]
  },
  {
   "cell_type": "markdown",
   "metadata": {},
   "source": [
    "##### Data Analysis -- >\n",
    "Lets check the different type of data available in dataset"
   ]
  },
  {
   "cell_type": "code",
   "execution_count": 364,
   "metadata": {},
   "outputs": [
    {
     "name": "stdout",
     "output_type": "stream",
     "text": [
      "Train Data Set -- >\n",
      "<class 'pandas.core.frame.DataFrame'>\n",
      "RangeIndex: 8523 entries, 0 to 8522\n",
      "Data columns (total 12 columns):\n",
      " #   Column                     Non-Null Count  Dtype  \n",
      "---  ------                     --------------  -----  \n",
      " 0   Item_Identifier            8523 non-null   object \n",
      " 1   Item_Weight                7060 non-null   float64\n",
      " 2   Item_Fat_Content           8523 non-null   object \n",
      " 3   Item_Visibility            8523 non-null   float64\n",
      " 4   Item_Type                  8523 non-null   object \n",
      " 5   Item_MRP                   8523 non-null   float64\n",
      " 6   Outlet_Identifier          8523 non-null   object \n",
      " 7   Outlet_Establishment_Year  8523 non-null   int64  \n",
      " 8   Outlet_Size                6113 non-null   object \n",
      " 9   Outlet_Location_Type       8523 non-null   object \n",
      " 10  Outlet_Type                8523 non-null   object \n",
      " 11  Item_Outlet_Sales          8523 non-null   float64\n",
      "dtypes: float64(4), int64(1), object(7)\n",
      "memory usage: 799.2+ KB\n",
      "None\n",
      "######################################\n",
      "Test Dataset ====> \n",
      "<class 'pandas.core.frame.DataFrame'>\n",
      "RangeIndex: 5681 entries, 0 to 5680\n",
      "Data columns (total 11 columns):\n",
      " #   Column                     Non-Null Count  Dtype  \n",
      "---  ------                     --------------  -----  \n",
      " 0   Item_Identifier            5681 non-null   object \n",
      " 1   Item_Weight                4705 non-null   float64\n",
      " 2   Item_Fat_Content           5681 non-null   object \n",
      " 3   Item_Visibility            5681 non-null   float64\n",
      " 4   Item_Type                  5681 non-null   object \n",
      " 5   Item_MRP                   5681 non-null   float64\n",
      " 6   Outlet_Identifier          5681 non-null   object \n",
      " 7   Outlet_Establishment_Year  5681 non-null   int64  \n",
      " 8   Outlet_Size                4075 non-null   object \n",
      " 9   Outlet_Location_Type       5681 non-null   object \n",
      " 10  Outlet_Type                5681 non-null   object \n",
      "dtypes: float64(3), int64(1), object(7)\n",
      "memory usage: 488.3+ KB\n",
      "None\n"
     ]
    }
   ],
   "source": [
    "print('Train Data Set -- >')\n",
    "print(train.info())\n",
    "print('######################################')\n",
    "print('Test Dataset ====> ')\n",
    "print(test.info())"
   ]
  },
  {
   "cell_type": "code",
   "execution_count": 365,
   "metadata": {},
   "outputs": [
    {
     "data": {
      "text/html": [
       "<div>\n",
       "<style scoped>\n",
       "    .dataframe tbody tr th:only-of-type {\n",
       "        vertical-align: middle;\n",
       "    }\n",
       "\n",
       "    .dataframe tbody tr th {\n",
       "        vertical-align: top;\n",
       "    }\n",
       "\n",
       "    .dataframe thead th {\n",
       "        text-align: right;\n",
       "    }\n",
       "</style>\n",
       "<table border=\"1\" class=\"dataframe\">\n",
       "  <thead>\n",
       "    <tr style=\"text-align: right;\">\n",
       "      <th></th>\n",
       "      <th>Item_Identifier</th>\n",
       "      <th>Item_Weight</th>\n",
       "      <th>Item_Fat_Content</th>\n",
       "      <th>Item_Visibility</th>\n",
       "      <th>Item_Type</th>\n",
       "      <th>Item_MRP</th>\n",
       "      <th>Outlet_Identifier</th>\n",
       "      <th>Outlet_Establishment_Year</th>\n",
       "      <th>Outlet_Size</th>\n",
       "      <th>Outlet_Location_Type</th>\n",
       "      <th>Outlet_Type</th>\n",
       "      <th>Item_Outlet_Sales</th>\n",
       "    </tr>\n",
       "  </thead>\n",
       "  <tbody>\n",
       "    <tr>\n",
       "      <th>0</th>\n",
       "      <td>FDA15</td>\n",
       "      <td>9.30</td>\n",
       "      <td>Low Fat</td>\n",
       "      <td>0.016047</td>\n",
       "      <td>Dairy</td>\n",
       "      <td>249.8092</td>\n",
       "      <td>OUT049</td>\n",
       "      <td>1999</td>\n",
       "      <td>Medium</td>\n",
       "      <td>Tier 1</td>\n",
       "      <td>Supermarket Type1</td>\n",
       "      <td>3735.1380</td>\n",
       "    </tr>\n",
       "    <tr>\n",
       "      <th>1</th>\n",
       "      <td>DRC01</td>\n",
       "      <td>5.92</td>\n",
       "      <td>Regular</td>\n",
       "      <td>0.019278</td>\n",
       "      <td>Soft Drinks</td>\n",
       "      <td>48.2692</td>\n",
       "      <td>OUT018</td>\n",
       "      <td>2009</td>\n",
       "      <td>Medium</td>\n",
       "      <td>Tier 3</td>\n",
       "      <td>Supermarket Type2</td>\n",
       "      <td>443.4228</td>\n",
       "    </tr>\n",
       "    <tr>\n",
       "      <th>2</th>\n",
       "      <td>FDN15</td>\n",
       "      <td>17.50</td>\n",
       "      <td>Low Fat</td>\n",
       "      <td>0.016760</td>\n",
       "      <td>Meat</td>\n",
       "      <td>141.6180</td>\n",
       "      <td>OUT049</td>\n",
       "      <td>1999</td>\n",
       "      <td>Medium</td>\n",
       "      <td>Tier 1</td>\n",
       "      <td>Supermarket Type1</td>\n",
       "      <td>2097.2700</td>\n",
       "    </tr>\n",
       "    <tr>\n",
       "      <th>3</th>\n",
       "      <td>FDX07</td>\n",
       "      <td>19.20</td>\n",
       "      <td>Regular</td>\n",
       "      <td>0.000000</td>\n",
       "      <td>Fruits and Vegetables</td>\n",
       "      <td>182.0950</td>\n",
       "      <td>OUT010</td>\n",
       "      <td>1998</td>\n",
       "      <td>NaN</td>\n",
       "      <td>Tier 3</td>\n",
       "      <td>Grocery Store</td>\n",
       "      <td>732.3800</td>\n",
       "    </tr>\n",
       "    <tr>\n",
       "      <th>4</th>\n",
       "      <td>NCD19</td>\n",
       "      <td>8.93</td>\n",
       "      <td>Low Fat</td>\n",
       "      <td>0.000000</td>\n",
       "      <td>Household</td>\n",
       "      <td>53.8614</td>\n",
       "      <td>OUT013</td>\n",
       "      <td>1987</td>\n",
       "      <td>High</td>\n",
       "      <td>Tier 3</td>\n",
       "      <td>Supermarket Type1</td>\n",
       "      <td>994.7052</td>\n",
       "    </tr>\n",
       "  </tbody>\n",
       "</table>\n",
       "</div>"
      ],
      "text/plain": [
       "  Item_Identifier  Item_Weight Item_Fat_Content  Item_Visibility  \\\n",
       "0           FDA15         9.30          Low Fat         0.016047   \n",
       "1           DRC01         5.92          Regular         0.019278   \n",
       "2           FDN15        17.50          Low Fat         0.016760   \n",
       "3           FDX07        19.20          Regular         0.000000   \n",
       "4           NCD19         8.93          Low Fat         0.000000   \n",
       "\n",
       "               Item_Type  Item_MRP Outlet_Identifier  \\\n",
       "0                  Dairy  249.8092            OUT049   \n",
       "1            Soft Drinks   48.2692            OUT018   \n",
       "2                   Meat  141.6180            OUT049   \n",
       "3  Fruits and Vegetables  182.0950            OUT010   \n",
       "4              Household   53.8614            OUT013   \n",
       "\n",
       "   Outlet_Establishment_Year Outlet_Size Outlet_Location_Type  \\\n",
       "0                       1999      Medium               Tier 1   \n",
       "1                       2009      Medium               Tier 3   \n",
       "2                       1999      Medium               Tier 1   \n",
       "3                       1998         NaN               Tier 3   \n",
       "4                       1987        High               Tier 3   \n",
       "\n",
       "         Outlet_Type  Item_Outlet_Sales  \n",
       "0  Supermarket Type1          3735.1380  \n",
       "1  Supermarket Type2           443.4228  \n",
       "2  Supermarket Type1          2097.2700  \n",
       "3      Grocery Store           732.3800  \n",
       "4  Supermarket Type1           994.7052  "
      ]
     },
     "execution_count": 365,
     "metadata": {},
     "output_type": "execute_result"
    }
   ],
   "source": [
    "train.head()"
   ]
  },
  {
   "cell_type": "code",
   "execution_count": 366,
   "metadata": {},
   "outputs": [
    {
     "name": "stdout",
     "output_type": "stream",
     "text": [
      "Numerical Features are : \n",
      "['Item_Weight', 'Item_Visibility', 'Item_MRP', 'Outlet_Establishment_Year', 'Item_Outlet_Sales']\n",
      "Categorical Features are : \n",
      "['Item_Identifier', 'Item_Fat_Content', 'Item_Type', 'Outlet_Identifier', 'Outlet_Size', 'Outlet_Location_Type', 'Outlet_Type']\n"
     ]
    }
   ],
   "source": [
    "### Find Numerical and Categorical features\n",
    "numerical = [features for features in train.columns if train[features].dtypes != 'O'] \n",
    "\n",
    "categorical = [features for features in train.columns if train[features].dtypes == 'O']\n",
    "\n",
    "print('Numerical Features are : ')\n",
    "print(numerical)\n",
    "print('Categorical Features are : ')\n",
    "print(categorical)"
   ]
  },
  {
   "cell_type": "markdown",
   "metadata": {},
   "source": [
    "###### Observation -- >\n",
    "from Data and details provided in problem statement , below needs to be applied\n",
    "1. Outlet_Establishment_Year is of Int data type but actual data is Year. We can treat it as datatime variable. So remove it from numerical list\n",
    "2. Item_Outlet_Sales is target variable . So we may wnat to use if in different manner\n",
    "3. As the name suggest , Item_Identifier & Outlet_Identifier are identifiers for which prediction needs to be applied. Also these 2 fetures are mixed variables containing numerical and string combition. Remove from Categorical list."
   ]
  },
  {
   "cell_type": "code",
   "execution_count": 367,
   "metadata": {},
   "outputs": [
    {
     "name": "stdout",
     "output_type": "stream",
     "text": [
      "Numerical Features are : \n",
      "['Item_Weight', 'Item_Visibility', 'Item_MRP', 'Item_Outlet_Sales']\n",
      "Categorical Features are : \n",
      "['Item_Fat_Content', 'Item_Type', 'Outlet_Size', 'Outlet_Location_Type', 'Outlet_Type']\n",
      "Datetime features are :\n",
      "Outlet_Establishment_Year\n",
      "Mixed variables are : \n",
      "Item_Identifier & Outlet_Identifier\n"
     ]
    }
   ],
   "source": [
    "numerical.remove('Outlet_Establishment_Year')\n",
    "\n",
    "categorical = [f for f in categorical if f not in ('Item_Identifier' , 'Outlet_Identifier')]\n",
    "\n",
    "print('Numerical Features are : ')\n",
    "print(numerical)\n",
    "print('Categorical Features are : ')\n",
    "print(categorical)\n",
    "print('Datetime features are :')\n",
    "print('Outlet_Establishment_Year')\n",
    "print('Mixed variables are : ')\n",
    "print('Item_Identifier & Outlet_Identifier')"
   ]
  },
  {
   "cell_type": "markdown",
   "metadata": {},
   "source": [
    "#### Data Analysis on Numerical Data \n",
    "1. Contineous numerical data \n",
    "2. Descrete numerical data"
   ]
  },
  {
   "cell_type": "code",
   "execution_count": 368,
   "metadata": {},
   "outputs": [
    {
     "name": "stdout",
     "output_type": "stream",
     "text": [
      "Item_Weight\n",
      "[ 9.3    5.92  17.5   19.2    8.93  10.395 13.65  16.2   11.8   18.5\n",
      " 15.1   17.6   16.35   9.    13.35  18.85  14.6   13.85  13.     7.645\n",
      " 11.65   5.925 19.25  18.6   18.7   17.85  10.     8.85   9.8   13.6\n",
      " 21.35  12.15   6.42  19.6   15.85   7.39  10.195  9.895 10.895  7.905\n",
      "  9.195  8.365  7.97  17.7   19.35   8.645 15.6   18.25   7.855  7.825\n",
      "  8.39  12.85  19.     5.905  7.76  16.75  15.5    6.055  6.305 20.85\n",
      " 20.75   8.895 19.7    8.75  13.3    8.31  19.75  17.1   10.5    6.635\n",
      " 14.15   8.89   9.1    7.5   16.85   7.485 11.6   12.65  20.25   8.6\n",
      " 12.6    8.88  20.5   13.5    7.235  6.92   8.02  12.8   16.6   14.\n",
      " 16.    21.25   7.365 18.35   5.465  7.27   6.155 19.5   15.2   14.5\n",
      " 13.1   12.3   11.1   11.3    5.75  11.35   6.525 10.3    5.78  11.85\n",
      " 18.75   5.26  16.1    9.5   13.8   14.65   6.67   6.11  17.2    6.32\n",
      "  4.88   5.425 14.1    7.55  17.25  12.    10.1    7.785 13.15   8.5\n",
      "  7.63   9.285  7.975 15.7    8.985 20.35   6.59  19.85   6.26  18.2\n",
      "  8.695  7.075  8.195  7.09   6.095  6.15   9.395 15.75   7.475  6.445\n",
      " 19.1   15.    16.7    7.07   6.48   9.695 11.15   9.6   20.7    5.5\n",
      "  7.895 17.35   7.285  6.17  11.395  7.71  12.1   14.35   8.1    8.05\n",
      " 16.5    6.785  7.575  7.47  15.25   7.605 18.    21.2    8.97  10.6\n",
      "  6.865 10.8   15.15  18.1    6.655 20.1    7.935 15.35  12.35   6.85\n",
      "  8.775 14.85   7.84  12.5    8.325  5.765  5.985 14.3    6.135  8.51\n",
      "  6.65   5.695  6.36   8.3    7.56   8.71   6.695 14.8   17.75   8.575\n",
      "  6.57   8.68   5.63   9.13   6.715  5.82   7.93   5.     7.445  6.675\n",
      "  8.18   6.98   7.435 20.6    8.355  8.975 20.2    5.655  5.175 20.\n",
      "  7.67   4.785  8.395  6.175  8.21   5.845  7.17   8.785  7.89   5.32\n",
      "  5.03   8.945  6.28   7.565  9.31   7.02   5.46   6.13   6.55  17.\n",
      " 16.25   5.15   7.865  6.575  7.06   5.785  7.42   6.235  6.75   5.86\n",
      "  5.035  6.38   5.675 11.5   21.    21.1    4.61   7.     6.405 14.7\n",
      "  7.68   8.185  8.655 10.85   8.42   7.85   4.59   7.51  11.     6.71\n",
      " 14.75   7.59   5.155  6.365  8.235  5.365  8.485  7.535  4.92   6.385\n",
      "  8.26   7.945  8.63   9.21   6.965  8.905  7.21   7.3    9.27  10.695\n",
      "  6.215  7.405  7.72   6.115  6.035  6.78  15.3    7.105  7.52   4.805\n",
      "  6.425  7.6    6.61   7.325  8.115  5.94   5.635  7.35   5.825  6.63\n",
      "  7.05   8.315  6.8    7.035  8.96   5.51   8.43   8.27   7.81   6.885\n",
      "  5.44   5.405  4.635 10.65   5.735  6.465  8.84   7.75   6.765  9.065\n",
      "  7.655  4.615  8.76   7.1    6.195  5.615  8.52   7.26   6.825  5.325\n",
      "  5.59   5.88   5.19   6.985  9.06   6.69   8.615  7.275  6.96   9.17\n",
      "  8.155  5.73   8.935  8.92   7.36   7.64   5.34   7.22   6.615  6.76\n",
      "  6.3    5.98   8.06   6.44   5.095  8.8    6.325  7.31   9.035  9.105\n",
      "  7.145  4.905  4.555  8.     7.315  6.89   5.945  6.86   6.935  6.03\n",
      "  7.725  5.885  7.155  6.46   5.48   8.01   5.8    5.305  6.905  7.96\n",
      "  5.11   8.77   7.685  8.275  8.38   8.35   9.42   6.775  6.4    6.895\n",
      "  5.485  6.52   8.67   5.21   5.4  ]\n",
      "######################\n",
      "Item_Visibility\n",
      "[0.0160473  0.01927822 0.01676007 ... 0.03518627 0.14522065 0.04487828]\n",
      "######################\n",
      "Item_MRP\n",
      "[249.8092  48.2692 141.618  ...  57.5904 214.5218  75.467 ]\n",
      "######################\n",
      "Item_Outlet_Sales\n",
      "[3735.138   443.4228 2097.27   ... 7182.6504 3608.636  2778.3834]\n",
      "######################\n"
     ]
    }
   ],
   "source": [
    "## Lets inspect values of variable \n",
    "for i in numerical :\n",
    "    print(i)\n",
    "    print(train[i].dropna().unique())\n",
    "    print('######################')"
   ]
  },
  {
   "cell_type": "markdown",
   "metadata": {},
   "source": [
    "#### Observation -->\n",
    "1. All numerical variables are contineous and there is no descrete data present \n",
    "2. Data also does not contain binary variables . containing 2 distinct values "
   ]
  },
  {
   "cell_type": "code",
   "execution_count": 369,
   "metadata": {},
   "outputs": [
    {
     "name": "stdout",
     "output_type": "stream",
     "text": [
      "       Item_Weight  Item_Visibility     Item_MRP  Item_Outlet_Sales\n",
      "count  7060.000000      8523.000000  8523.000000        8523.000000\n",
      "mean     12.857645         0.066132   140.992782        2181.288914\n",
      "std       4.643456         0.051598    62.275067        1706.499616\n",
      "min       4.555000         0.000000    31.290000          33.290000\n",
      "25%       8.773750         0.026989    93.826500         834.247400\n",
      "50%      12.600000         0.053931   143.012800        1794.331000\n",
      "75%      16.850000         0.094585   185.643700        3101.296400\n",
      "max      21.350000         0.328391   266.888400       13086.964800\n"
     ]
    }
   ],
   "source": [
    "print(train[numerical].describe())"
   ]
  },
  {
   "cell_type": "markdown",
   "metadata": {},
   "source": [
    "#### Observation -- >\n",
    "1. Item_Visibility has 0 minimum values . This is not real so such data needs to be fixed along with Null data fixes."
   ]
  },
  {
   "cell_type": "code",
   "execution_count": 370,
   "metadata": {},
   "outputs": [],
   "source": [
    "### Visualize the numerical data \n",
    "def NumHist(df,feature):\n",
    "    plt.hist(df[feature])\n",
    "    plt.xlabel(feature)\n",
    "    plt.ylabel(\"Count of\" + feature)\n",
    "    plt.title(feature)\n",
    "    plt.show()"
   ]
  },
  {
   "cell_type": "code",
   "execution_count": 371,
   "metadata": {},
   "outputs": [
    {
     "data": {
      "image/png": "[encoded data removed]",
      "text/plain": [
       "<Figure size 432x288 with 1 Axes>"
      ]
     },
     "metadata": {
      "needs_background": "light"
     },
     "output_type": "display_data"
    },
    {
     "data": {
      "image/png": "[encoded data removed]",
      "text/plain": [
       "<Figure size 432x288 with 1 Axes>"
      ]
     },
     "metadata": {
      "needs_background": "light"
     },
     "output_type": "display_data"
    },
    {
     "data": {
      "image/png": "[encoded data removed]",
      "text/plain": [
       "<Figure size 432x288 with 1 Axes>"
      ]
     },
     "metadata": {
      "needs_background": "light"
     },
     "output_type": "display_data"
    },
    {
     "data": {
      "image/png": "[encoded data removed]",
      "text/plain": [
       "<Figure size 432x288 with 1 Axes>"
      ]
     },
     "metadata": {
      "needs_background": "light"
     },
     "output_type": "display_data"
    }
   ],
   "source": [
    "for i in numerical:\n",
    "    NumHist(train,i)"
   ]
  },
  {
   "cell_type": "markdown",
   "metadata": {},
   "source": [
    "##### Observations on train data -- >\n",
    "1. Item_Visibility & Item_Outlet_Sales are right skewed. These features also has outliers which needs to be corrected.\n",
    "2. For Item_Visibility & Item_Outlet_Sales --> median & IQR will be more sesible use for measure of central tendancy as these are skewed. For rest mean & Std Deviation is more sensible."
   ]
  },
  {
   "cell_type": "code",
   "execution_count": 372,
   "metadata": {},
   "outputs": [
    {
     "data": {
      "image/png": "[encoded data removed]",
      "text/plain": [
       "<Figure size 432x288 with 1 Axes>"
      ]
     },
     "metadata": {
      "needs_background": "light"
     },
     "output_type": "display_data"
    },
    {
     "data": {
      "image/png": "[encoded data removed]",
      "text/plain": [
       "<Figure size 432x288 with 1 Axes>"
      ]
     },
     "metadata": {
      "needs_background": "light"
     },
     "output_type": "display_data"
    },
    {
     "data": {
      "image/png": "[encoded data removed]",
      "text/plain": [
       "<Figure size 432x288 with 1 Axes>"
      ]
     },
     "metadata": {
      "needs_background": "light"
     },
     "output_type": "display_data"
    },
    {
     "data": {
      "image/png": "[encoded data removed]",
      "text/plain": [
       "<Figure size 432x288 with 1 Axes>"
      ]
     },
     "metadata": {
      "needs_background": "light"
     },
     "output_type": "display_data"
    }
   ],
   "source": [
    "for i in numerical :\n",
    "    sns.distplot(train[i])\n",
    "    plt.show()"
   ]
  },
  {
   "cell_type": "markdown",
   "metadata": {},
   "source": [
    "##### Observation -- >\n",
    "1. Item_Visibility & Item_Outlet_Sales Features doesnt follow normal distribution so needs to be transformed.\n",
    "2. Rest 2 can be kept as is ."
   ]
  },
  {
   "cell_type": "markdown",
   "metadata": {},
   "source": [
    "#### Data Fixes & Transformation to Numerical features based on above analysis.\n",
    "1. Null value population for Item_Weight \n",
    "2. Item_Visibility population for records with 0 value\n",
    "3. Normalization of Item_Outlet_Sales & Item_Visibility "
   ]
  },
  {
   "cell_type": "markdown",
   "metadata": {},
   "source": [
    "###### Item_Weight Null values population -- >"
   ]
  },
  {
   "cell_type": "code",
   "execution_count": 373,
   "metadata": {},
   "outputs": [
    {
     "data": {
      "text/html": [
       "<div>\n",
       "<style scoped>\n",
       "    .dataframe tbody tr th:only-of-type {\n",
       "        vertical-align: middle;\n",
       "    }\n",
       "\n",
       "    .dataframe tbody tr th {\n",
       "        vertical-align: top;\n",
       "    }\n",
       "\n",
       "    .dataframe thead th {\n",
       "        text-align: right;\n",
       "    }\n",
       "</style>\n",
       "<table border=\"1\" class=\"dataframe\">\n",
       "  <thead>\n",
       "    <tr style=\"text-align: right;\">\n",
       "      <th></th>\n",
       "      <th>Item_Identifier</th>\n",
       "      <th>Item_Weight</th>\n",
       "      <th>Item_Fat_Content</th>\n",
       "      <th>Item_Visibility</th>\n",
       "      <th>Item_Type</th>\n",
       "      <th>Item_MRP</th>\n",
       "      <th>Outlet_Identifier</th>\n",
       "      <th>Outlet_Establishment_Year</th>\n",
       "      <th>Outlet_Size</th>\n",
       "      <th>Outlet_Location_Type</th>\n",
       "      <th>Outlet_Type</th>\n",
       "      <th>Item_Outlet_Sales</th>\n",
       "    </tr>\n",
       "  </thead>\n",
       "  <tbody>\n",
       "    <tr>\n",
       "      <th>7</th>\n",
       "      <td>FDP10</td>\n",
       "      <td>NaN</td>\n",
       "      <td>Low Fat</td>\n",
       "      <td>0.127470</td>\n",
       "      <td>Snack Foods</td>\n",
       "      <td>107.7622</td>\n",
       "      <td>OUT027</td>\n",
       "      <td>1985</td>\n",
       "      <td>Medium</td>\n",
       "      <td>Tier 3</td>\n",
       "      <td>Supermarket Type3</td>\n",
       "      <td>4022.7636</td>\n",
       "    </tr>\n",
       "    <tr>\n",
       "      <th>18</th>\n",
       "      <td>DRI11</td>\n",
       "      <td>NaN</td>\n",
       "      <td>Low Fat</td>\n",
       "      <td>0.034238</td>\n",
       "      <td>Hard Drinks</td>\n",
       "      <td>113.2834</td>\n",
       "      <td>OUT027</td>\n",
       "      <td>1985</td>\n",
       "      <td>Medium</td>\n",
       "      <td>Tier 3</td>\n",
       "      <td>Supermarket Type3</td>\n",
       "      <td>2303.6680</td>\n",
       "    </tr>\n",
       "    <tr>\n",
       "      <th>21</th>\n",
       "      <td>FDW12</td>\n",
       "      <td>NaN</td>\n",
       "      <td>Regular</td>\n",
       "      <td>0.035400</td>\n",
       "      <td>Baking Goods</td>\n",
       "      <td>144.5444</td>\n",
       "      <td>OUT027</td>\n",
       "      <td>1985</td>\n",
       "      <td>Medium</td>\n",
       "      <td>Tier 3</td>\n",
       "      <td>Supermarket Type3</td>\n",
       "      <td>4064.0432</td>\n",
       "    </tr>\n",
       "    <tr>\n",
       "      <th>23</th>\n",
       "      <td>FDC37</td>\n",
       "      <td>NaN</td>\n",
       "      <td>Low Fat</td>\n",
       "      <td>0.057557</td>\n",
       "      <td>Baking Goods</td>\n",
       "      <td>107.6938</td>\n",
       "      <td>OUT019</td>\n",
       "      <td>1985</td>\n",
       "      <td>Small</td>\n",
       "      <td>Tier 1</td>\n",
       "      <td>Grocery Store</td>\n",
       "      <td>214.3876</td>\n",
       "    </tr>\n",
       "    <tr>\n",
       "      <th>29</th>\n",
       "      <td>FDC14</td>\n",
       "      <td>NaN</td>\n",
       "      <td>Regular</td>\n",
       "      <td>0.072222</td>\n",
       "      <td>Canned</td>\n",
       "      <td>43.6454</td>\n",
       "      <td>OUT019</td>\n",
       "      <td>1985</td>\n",
       "      <td>Small</td>\n",
       "      <td>Tier 1</td>\n",
       "      <td>Grocery Store</td>\n",
       "      <td>125.8362</td>\n",
       "    </tr>\n",
       "  </tbody>\n",
       "</table>\n",
       "</div>"
      ],
      "text/plain": [
       "   Item_Identifier  Item_Weight Item_Fat_Content  Item_Visibility  \\\n",
       "7            FDP10          NaN          Low Fat         0.127470   \n",
       "18           DRI11          NaN          Low Fat         0.034238   \n",
       "21           FDW12          NaN          Regular         0.035400   \n",
       "23           FDC37          NaN          Low Fat         0.057557   \n",
       "29           FDC14          NaN          Regular         0.072222   \n",
       "\n",
       "       Item_Type  Item_MRP Outlet_Identifier  Outlet_Establishment_Year  \\\n",
       "7    Snack Foods  107.7622            OUT027                       1985   \n",
       "18   Hard Drinks  113.2834            OUT027                       1985   \n",
       "21  Baking Goods  144.5444            OUT027                       1985   \n",
       "23  Baking Goods  107.6938            OUT019                       1985   \n",
       "29        Canned   43.6454            OUT019                       1985   \n",
       "\n",
       "   Outlet_Size Outlet_Location_Type        Outlet_Type  Item_Outlet_Sales  \n",
       "7       Medium               Tier 3  Supermarket Type3          4022.7636  \n",
       "18      Medium               Tier 3  Supermarket Type3          2303.6680  \n",
       "21      Medium               Tier 3  Supermarket Type3          4064.0432  \n",
       "23       Small               Tier 1      Grocery Store           214.3876  \n",
       "29       Small               Tier 1      Grocery Store           125.8362  "
      ]
     },
     "execution_count": 373,
     "metadata": {},
     "output_type": "execute_result"
    }
   ],
   "source": [
    "train[train.Item_Weight.isnull()].head()"
   ]
  },
  {
   "cell_type": "markdown",
   "metadata": {},
   "source": [
    "####### Item Weight can be different based on different items. In dataset we have mixed variable Item_Identifier which may be useful distinguish different items "
   ]
  },
  {
   "cell_type": "code",
   "execution_count": 374,
   "metadata": {},
   "outputs": [
    {
     "data": {
      "text/plain": [
       "FD    1066\n",
       "NC     273\n",
       "DR     124\n",
       "Name: Item_Type_Reduced, dtype: int64"
      ]
     },
     "execution_count": 374,
     "metadata": {},
     "output_type": "execute_result"
    }
   ],
   "source": [
    "## New feature addition \n",
    "train['Item_Type_Reduced'] = train['Item_Identifier'].str[:2]\n",
    "train[train.Item_Weight.isnull()].Item_Type_Reduced.value_counts()"
   ]
  },
  {
   "cell_type": "code",
   "execution_count": 375,
   "metadata": {},
   "outputs": [
    {
     "data": {
      "text/plain": [
       "Item_Type_Reduced\n",
       "DR    11.8\n",
       "FD    12.6\n",
       "NC    13.0\n",
       "Name: Item_Weight, dtype: float64"
      ]
     },
     "execution_count": 375,
     "metadata": {},
     "output_type": "execute_result"
    }
   ],
   "source": [
    "train.groupby('Item_Type_Reduced')['Item_Weight'].median()"
   ]
  },
  {
   "cell_type": "code",
   "execution_count": 376,
   "metadata": {},
   "outputs": [
    {
     "data": {
      "text/plain": [
       "Item_Type_Reduced\n",
       "DR    12.072348\n",
       "FD    12.832186\n",
       "NC    13.354532\n",
       "Name: Item_Weight, dtype: float64"
      ]
     },
     "execution_count": 376,
     "metadata": {},
     "output_type": "execute_result"
    }
   ],
   "source": [
    "train.groupby('Item_Type_Reduced')['Item_Weight'].mean()"
   ]
  },
  {
   "cell_type": "markdown",
   "metadata": {},
   "source": [
    "##### Based on descriptive statistics and dencity plot, it is visible that Item_Weight distribution is not very much skewed so instead of median lets populate mean."
   ]
  },
  {
   "cell_type": "code",
   "execution_count": 377,
   "metadata": {},
   "outputs": [
    {
     "name": "stdout",
     "output_type": "stream",
     "text": [
      "0\n"
     ]
    }
   ],
   "source": [
    "condition = train.Item_Weight.isnull()\n",
    "\n",
    "WeightMap=dict(train.groupby(['Item_Type_Reduced'])['Item_Weight'].mean())\n",
    "train.loc[condition,'Item_Weight']=train.loc[condition,'Item_Type_Reduced'].apply(lambda x :WeightMap[x] )\n",
    "print(train.Item_Weight.isnull().sum())"
   ]
  },
  {
   "cell_type": "code",
   "execution_count": 378,
   "metadata": {},
   "outputs": [
    {
     "name": "stdout",
     "output_type": "stream",
     "text": [
      "0\n"
     ]
    }
   ],
   "source": [
    "## New feature addition to test data \n",
    "test['Item_Type_Reduced'] = test['Item_Identifier'].str[:2]\n",
    "\n",
    "### Item_Weight population \n",
    "condition = test.Item_Weight.isnull()\n",
    "\n",
    "WeightMap=dict(test.groupby(['Item_Type_Reduced'])['Item_Weight'].mean())\n",
    "test.loc[condition,'Item_Weight']=test.loc[condition,'Item_Type_Reduced'].apply(lambda x :WeightMap[x] )\n",
    "print(test.Item_Weight.isnull().sum())"
   ]
  },
  {
   "cell_type": "markdown",
   "metadata": {},
   "source": [
    "#### Item_Visibility population for records with 0 value "
   ]
  },
  {
   "cell_type": "code",
   "execution_count": 379,
   "metadata": {},
   "outputs": [
    {
     "data": {
      "text/html": [
       "<div>\n",
       "<style scoped>\n",
       "    .dataframe tbody tr th:only-of-type {\n",
       "        vertical-align: middle;\n",
       "    }\n",
       "\n",
       "    .dataframe tbody tr th {\n",
       "        vertical-align: top;\n",
       "    }\n",
       "\n",
       "    .dataframe thead th {\n",
       "        text-align: right;\n",
       "    }\n",
       "</style>\n",
       "<table border=\"1\" class=\"dataframe\">\n",
       "  <thead>\n",
       "    <tr style=\"text-align: right;\">\n",
       "      <th></th>\n",
       "      <th>Item_Identifier</th>\n",
       "      <th>Item_Weight</th>\n",
       "      <th>Item_Fat_Content</th>\n",
       "      <th>Item_Visibility</th>\n",
       "      <th>Item_Type</th>\n",
       "      <th>Item_MRP</th>\n",
       "      <th>Outlet_Identifier</th>\n",
       "      <th>Outlet_Establishment_Year</th>\n",
       "      <th>Outlet_Size</th>\n",
       "      <th>Outlet_Location_Type</th>\n",
       "      <th>Outlet_Type</th>\n",
       "      <th>Item_Outlet_Sales</th>\n",
       "      <th>Item_Type_Reduced</th>\n",
       "    </tr>\n",
       "  </thead>\n",
       "  <tbody>\n",
       "    <tr>\n",
       "      <th>3</th>\n",
       "      <td>FDX07</td>\n",
       "      <td>19.200</td>\n",
       "      <td>Regular</td>\n",
       "      <td>0.0</td>\n",
       "      <td>Fruits and Vegetables</td>\n",
       "      <td>182.0950</td>\n",
       "      <td>OUT010</td>\n",
       "      <td>1998</td>\n",
       "      <td>NaN</td>\n",
       "      <td>Tier 3</td>\n",
       "      <td>Grocery Store</td>\n",
       "      <td>732.3800</td>\n",
       "      <td>FD</td>\n",
       "    </tr>\n",
       "    <tr>\n",
       "      <th>4</th>\n",
       "      <td>NCD19</td>\n",
       "      <td>8.930</td>\n",
       "      <td>Low Fat</td>\n",
       "      <td>0.0</td>\n",
       "      <td>Household</td>\n",
       "      <td>53.8614</td>\n",
       "      <td>OUT013</td>\n",
       "      <td>1987</td>\n",
       "      <td>High</td>\n",
       "      <td>Tier 3</td>\n",
       "      <td>Supermarket Type1</td>\n",
       "      <td>994.7052</td>\n",
       "      <td>NC</td>\n",
       "    </tr>\n",
       "    <tr>\n",
       "      <th>5</th>\n",
       "      <td>FDP36</td>\n",
       "      <td>10.395</td>\n",
       "      <td>Regular</td>\n",
       "      <td>0.0</td>\n",
       "      <td>Baking Goods</td>\n",
       "      <td>51.4008</td>\n",
       "      <td>OUT018</td>\n",
       "      <td>2009</td>\n",
       "      <td>Medium</td>\n",
       "      <td>Tier 3</td>\n",
       "      <td>Supermarket Type2</td>\n",
       "      <td>556.6088</td>\n",
       "      <td>FD</td>\n",
       "    </tr>\n",
       "    <tr>\n",
       "      <th>10</th>\n",
       "      <td>FDY07</td>\n",
       "      <td>11.800</td>\n",
       "      <td>Low Fat</td>\n",
       "      <td>0.0</td>\n",
       "      <td>Fruits and Vegetables</td>\n",
       "      <td>45.5402</td>\n",
       "      <td>OUT049</td>\n",
       "      <td>1999</td>\n",
       "      <td>Medium</td>\n",
       "      <td>Tier 1</td>\n",
       "      <td>Supermarket Type1</td>\n",
       "      <td>1516.0266</td>\n",
       "      <td>FD</td>\n",
       "    </tr>\n",
       "    <tr>\n",
       "      <th>32</th>\n",
       "      <td>FDP33</td>\n",
       "      <td>18.700</td>\n",
       "      <td>Low Fat</td>\n",
       "      <td>0.0</td>\n",
       "      <td>Snack Foods</td>\n",
       "      <td>256.6672</td>\n",
       "      <td>OUT018</td>\n",
       "      <td>2009</td>\n",
       "      <td>Medium</td>\n",
       "      <td>Tier 3</td>\n",
       "      <td>Supermarket Type2</td>\n",
       "      <td>3068.0064</td>\n",
       "      <td>FD</td>\n",
       "    </tr>\n",
       "  </tbody>\n",
       "</table>\n",
       "</div>"
      ],
      "text/plain": [
       "   Item_Identifier  Item_Weight Item_Fat_Content  Item_Visibility  \\\n",
       "3            FDX07       19.200          Regular              0.0   \n",
       "4            NCD19        8.930          Low Fat              0.0   \n",
       "5            FDP36       10.395          Regular              0.0   \n",
       "10           FDY07       11.800          Low Fat              0.0   \n",
       "32           FDP33       18.700          Low Fat              0.0   \n",
       "\n",
       "                Item_Type  Item_MRP Outlet_Identifier  \\\n",
       "3   Fruits and Vegetables  182.0950            OUT010   \n",
       "4               Household   53.8614            OUT013   \n",
       "5            Baking Goods   51.4008            OUT018   \n",
       "10  Fruits and Vegetables   45.5402            OUT049   \n",
       "32            Snack Foods  256.6672            OUT018   \n",
       "\n",
       "    Outlet_Establishment_Year Outlet_Size Outlet_Location_Type  \\\n",
       "3                        1998         NaN               Tier 3   \n",
       "4                        1987        High               Tier 3   \n",
       "5                        2009      Medium               Tier 3   \n",
       "10                       1999      Medium               Tier 1   \n",
       "32                       2009      Medium               Tier 3   \n",
       "\n",
       "          Outlet_Type  Item_Outlet_Sales Item_Type_Reduced  \n",
       "3       Grocery Store           732.3800                FD  \n",
       "4   Supermarket Type1           994.7052                NC  \n",
       "5   Supermarket Type2           556.6088                FD  \n",
       "10  Supermarket Type1          1516.0266                FD  \n",
       "32  Supermarket Type2          3068.0064                FD  "
      ]
     },
     "execution_count": 379,
     "metadata": {},
     "output_type": "execute_result"
    }
   ],
   "source": [
    "train[train.Item_Visibility == 0 ].head()"
   ]
  },
  {
   "cell_type": "code",
   "execution_count": 380,
   "metadata": {},
   "outputs": [
    {
     "data": {
      "text/plain": [
       "FD    366\n",
       "NC     94\n",
       "DR     66\n",
       "Name: Item_Type_Reduced, dtype: int64"
      ]
     },
     "execution_count": 380,
     "metadata": {},
     "output_type": "execute_result"
    }
   ],
   "source": [
    "train[train.Item_Visibility == 0 ].Item_Type_Reduced.value_counts()"
   ]
  },
  {
   "cell_type": "code",
   "execution_count": 381,
   "metadata": {},
   "outputs": [
    {
     "data": {
      "text/plain": [
       "Item_Type_Reduced\n",
       "DR    0.049179\n",
       "FD    0.056406\n",
       "NC    0.044999\n",
       "Name: Item_Visibility, dtype: float64"
      ]
     },
     "execution_count": 381,
     "metadata": {},
     "output_type": "execute_result"
    }
   ],
   "source": [
    "train.groupby('Item_Type_Reduced')['Item_Visibility'].median()"
   ]
  },
  {
   "cell_type": "code",
   "execution_count": 382,
   "metadata": {},
   "outputs": [],
   "source": [
    "##### Based on descriptive statistics and dencity plot, it is visible that Item_Visibility distribution is right skewed so instead of mean lets populate median."
   ]
  },
  {
   "cell_type": "code",
   "execution_count": 383,
   "metadata": {},
   "outputs": [
    {
     "data": {
      "text/plain": [
       "Series([], Name: Item_Type_Reduced, dtype: int64)"
      ]
     },
     "execution_count": 383,
     "metadata": {},
     "output_type": "execute_result"
    }
   ],
   "source": [
    "condition = train.Item_Visibility == 0\n",
    "\n",
    "VisibilityMap=dict(train.groupby(['Item_Type_Reduced'])['Item_Visibility'].median())\n",
    "train.loc[condition,'Item_Visibility']=train.loc[condition,'Item_Type_Reduced'].apply(lambda x :VisibilityMap[x] )\n",
    "\n",
    "train[train.Item_Visibility == 0 ].Item_Type_Reduced.value_counts()"
   ]
  },
  {
   "cell_type": "code",
   "execution_count": 384,
   "metadata": {},
   "outputs": [
    {
     "data": {
      "text/html": [
       "<div>\n",
       "<style scoped>\n",
       "    .dataframe tbody tr th:only-of-type {\n",
       "        vertical-align: middle;\n",
       "    }\n",
       "\n",
       "    .dataframe tbody tr th {\n",
       "        vertical-align: top;\n",
       "    }\n",
       "\n",
       "    .dataframe thead th {\n",
       "        text-align: right;\n",
       "    }\n",
       "</style>\n",
       "<table border=\"1\" class=\"dataframe\">\n",
       "  <thead>\n",
       "    <tr style=\"text-align: right;\">\n",
       "      <th></th>\n",
       "      <th>Item_Identifier</th>\n",
       "      <th>Item_Weight</th>\n",
       "      <th>Item_Fat_Content</th>\n",
       "      <th>Item_Visibility</th>\n",
       "      <th>Item_Type</th>\n",
       "      <th>Item_MRP</th>\n",
       "      <th>Outlet_Identifier</th>\n",
       "      <th>Outlet_Establishment_Year</th>\n",
       "      <th>Outlet_Size</th>\n",
       "      <th>Outlet_Location_Type</th>\n",
       "      <th>Outlet_Type</th>\n",
       "      <th>Item_Outlet_Sales</th>\n",
       "      <th>Item_Type_Reduced</th>\n",
       "    </tr>\n",
       "  </thead>\n",
       "  <tbody>\n",
       "  </tbody>\n",
       "</table>\n",
       "</div>"
      ],
      "text/plain": [
       "Empty DataFrame\n",
       "Columns: [Item_Identifier, Item_Weight, Item_Fat_Content, Item_Visibility, Item_Type, Item_MRP, Outlet_Identifier, Outlet_Establishment_Year, Outlet_Size, Outlet_Location_Type, Outlet_Type, Item_Outlet_Sales, Item_Type_Reduced]\n",
       "Index: []"
      ]
     },
     "execution_count": 384,
     "metadata": {},
     "output_type": "execute_result"
    }
   ],
   "source": [
    "train[train.Item_Visibility == 0 ].head()"
   ]
  },
  {
   "cell_type": "code",
   "execution_count": 385,
   "metadata": {},
   "outputs": [],
   "source": [
    "### Test data population\n",
    "condition = test.Item_Visibility == 0\n",
    "\n",
    "VisibilityMap=dict(test.groupby(['Item_Type_Reduced'])['Item_Visibility'].median())\n",
    "test.loc[condition,'Item_Visibility']=test.loc[condition,'Item_Type_Reduced'].apply(lambda x :VisibilityMap[x] )"
   ]
  },
  {
   "cell_type": "markdown",
   "metadata": {},
   "source": [
    "###### Nomalization of Item_Outlet_Sales and Item_Visibility -- >\n",
    "Gaussian Transformation"
   ]
  },
  {
   "cell_type": "markdown",
   "metadata": {},
   "source": [
    "###### Plots to assess Normality\n",
    "\n",
    "To visualise the distribution of the variables, we plot a histogram and a Q-Q plot. In the Q-Q pLots, if the variable is normally distributed, the values of the variable should fall in a 45 degree line when plotted against the theoretical quantiles. "
   ]
  },
  {
   "cell_type": "code",
   "execution_count": 386,
   "metadata": {},
   "outputs": [],
   "source": [
    "### Import new library \n",
    "import scipy.stats as stats"
   ]
  },
  {
   "cell_type": "code",
   "execution_count": 387,
   "metadata": {},
   "outputs": [],
   "source": [
    "# plot the histograms to have a quick look at the variable distribution\n",
    "# histogram and Q-Q plots\n",
    "\n",
    "def diagnostic_plots(df, variable):\n",
    "    \n",
    "    # function to plot a histogram and a Q-Q plot\n",
    "    # side by side, for a certain variable\n",
    "    \n",
    "    plt.figure(figsize=(15,6))\n",
    "    plt.subplot(1, 2, 1)\n",
    "    df[variable].hist(bins=30)\n",
    "\n",
    "    plt.subplot(1, 2, 2)\n",
    "    stats.probplot(df[variable], dist=\"norm\", plot=plt)\n",
    "\n",
    "    plt.show()"
   ]
  },
  {
   "cell_type": "code",
   "execution_count": 388,
   "metadata": {},
   "outputs": [
    {
     "data": {
      "image/png": "[encoded data removed]",
      "text/plain": [
       "<Figure size 1080x432 with 2 Axes>"
      ]
     },
     "metadata": {
      "needs_background": "light"
     },
     "output_type": "display_data"
    }
   ],
   "source": [
    "diagnostic_plots(train , 'Item_Visibility')"
   ]
  },
  {
   "cell_type": "code",
   "execution_count": 389,
   "metadata": {},
   "outputs": [
    {
     "data": {
      "image/png": "[encoded data removed]",
      "text/plain": [
       "<Figure size 1080x432 with 2 Axes>"
      ]
     },
     "metadata": {
      "needs_background": "light"
     },
     "output_type": "display_data"
    }
   ],
   "source": [
    "diagnostic_plots(train , 'Item_Outlet_Sales')"
   ]
  },
  {
   "cell_type": "markdown",
   "metadata": {},
   "source": [
    "#### Lets Transform data "
   ]
  },
  {
   "cell_type": "markdown",
   "metadata": {},
   "source": [
    "##### 1.  Logarithmic Transformation "
   ]
  },
  {
   "cell_type": "code",
   "execution_count": 390,
   "metadata": {},
   "outputs": [
    {
     "data": {
      "image/png": "[encoded data removed]",
      "text/plain": [
       "<Figure size 1080x432 with 2 Axes>"
      ]
     },
     "metadata": {
      "needs_background": "light"
     },
     "output_type": "display_data"
    }
   ],
   "source": [
    "train['Item_Visibility_Log'] =  np.log(train['Item_Visibility'])\n",
    "test['Item_Visibility_Log'] =  np.log(test['Item_Visibility'])\n",
    "diagnostic_plots(train , 'Item_Visibility_Log')"
   ]
  },
  {
   "cell_type": "markdown",
   "metadata": {},
   "source": [
    "#### Log Transformation"
   ]
  },
  {
   "cell_type": "code",
   "execution_count": 391,
   "metadata": {},
   "outputs": [
    {
     "data": {
      "image/png": "[encoded data removed]",
      "text/plain": [
       "<Figure size 1080x432 with 2 Axes>"
      ]
     },
     "metadata": {
      "needs_background": "light"
     },
     "output_type": "display_data"
    }
   ],
   "source": [
    "train['Item_Outlet_Sales_log'] = np.log(train['Item_Outlet_Sales'])\n",
    "diagnostic_plots(train , 'Item_Outlet_Sales_log')"
   ]
  },
  {
   "cell_type": "code",
   "execution_count": 392,
   "metadata": {},
   "outputs": [
    {
     "name": "stdout",
     "output_type": "stream",
     "text": [
      "Optimal λ:  0.22143103262313046\n"
     ]
    },
    {
     "data": {
      "image/png": "[encoded data removed]",
      "text/plain": [
       "<Figure size 1080x432 with 2 Axes>"
      ]
     },
     "metadata": {
      "needs_background": "light"
     },
     "output_type": "display_data"
    }
   ],
   "source": [
    "train['Item_Visibility_BoxCox'], param = stats.boxcox(train['Item_Visibility']) \n",
    "\n",
    "print('Optimal λ: ', param)\n",
    "\n",
    "diagnostic_plots(train, 'Item_Visibility_BoxCox')"
   ]
  },
  {
   "cell_type": "code",
   "execution_count": 393,
   "metadata": {},
   "outputs": [
    {
     "name": "stdout",
     "output_type": "stream",
     "text": [
      "Optimal λ:  0.22274918982084851\n"
     ]
    },
    {
     "data": {
      "image/png": "[encoded data removed]",
      "text/plain": [
       "<Figure size 1080x432 with 2 Axes>"
      ]
     },
     "metadata": {
      "needs_background": "light"
     },
     "output_type": "display_data"
    }
   ],
   "source": [
    "test['Item_Visibility_BoxCox'], param = stats.boxcox(test['Item_Visibility']) \n",
    "\n",
    "print('Optimal λ: ', param)\n",
    "\n",
    "diagnostic_plots(test, 'Item_Visibility_BoxCox')"
   ]
  },
  {
   "cell_type": "code",
   "execution_count": 394,
   "metadata": {},
   "outputs": [
    {
     "data": {
      "image/png": "[encoded data removed]",
      "text/plain": [
       "<Figure size 432x288 with 1 Axes>"
      ]
     },
     "metadata": {
      "needs_background": "light"
     },
     "output_type": "display_data"
    }
   ],
   "source": [
    "plt.scatter(train.Item_Outlet_Sales_log , train.Item_MRP)\n",
    "plt.show()"
   ]
  },
  {
   "cell_type": "code",
   "execution_count": 395,
   "metadata": {},
   "outputs": [
    {
     "data": {
      "image/png": "[encoded data removed]",
      "text/plain": [
       "<Figure size 432x288 with 1 Axes>"
      ]
     },
     "metadata": {
      "needs_background": "light"
     },
     "output_type": "display_data"
    }
   ],
   "source": [
    "plt.scatter(train.Item_Outlet_Sales_log , train.Item_Weight)\n",
    "plt.show()"
   ]
  },
  {
   "cell_type": "code",
   "execution_count": 396,
   "metadata": {},
   "outputs": [
    {
     "data": {
      "image/png": "[encoded data removed]",
      "text/plain": [
       "<Figure size 432x288 with 1 Axes>"
      ]
     },
     "metadata": {
      "needs_background": "light"
     },
     "output_type": "display_data"
    }
   ],
   "source": [
    "plt.scatter(train.Item_Outlet_Sales_log , train.Item_Visibility)\n",
    "plt.show()"
   ]
  },
  {
   "cell_type": "code",
   "execution_count": 397,
   "metadata": {},
   "outputs": [
    {
     "data": {
      "text/html": [
       "<div>\n",
       "<style scoped>\n",
       "    .dataframe tbody tr th:only-of-type {\n",
       "        vertical-align: middle;\n",
       "    }\n",
       "\n",
       "    .dataframe tbody tr th {\n",
       "        vertical-align: top;\n",
       "    }\n",
       "\n",
       "    .dataframe thead th {\n",
       "        text-align: right;\n",
       "    }\n",
       "</style>\n",
       "<table border=\"1\" class=\"dataframe\">\n",
       "  <thead>\n",
       "    <tr style=\"text-align: right;\">\n",
       "      <th></th>\n",
       "      <th>Item_Identifier</th>\n",
       "      <th>Item_Weight</th>\n",
       "      <th>Item_Fat_Content</th>\n",
       "      <th>Item_Visibility</th>\n",
       "      <th>Item_Type</th>\n",
       "      <th>Item_MRP</th>\n",
       "      <th>Outlet_Identifier</th>\n",
       "      <th>Outlet_Establishment_Year</th>\n",
       "      <th>Outlet_Size</th>\n",
       "      <th>Outlet_Location_Type</th>\n",
       "      <th>Outlet_Type</th>\n",
       "      <th>Item_Outlet_Sales</th>\n",
       "      <th>Item_Type_Reduced</th>\n",
       "      <th>Item_Visibility_Log</th>\n",
       "      <th>Item_Outlet_Sales_log</th>\n",
       "      <th>Item_Visibility_BoxCox</th>\n",
       "    </tr>\n",
       "  </thead>\n",
       "  <tbody>\n",
       "    <tr>\n",
       "      <th>0</th>\n",
       "      <td>FDA15</td>\n",
       "      <td>9.30</td>\n",
       "      <td>Low Fat</td>\n",
       "      <td>0.016047</td>\n",
       "      <td>Dairy</td>\n",
       "      <td>249.8092</td>\n",
       "      <td>OUT049</td>\n",
       "      <td>1999</td>\n",
       "      <td>Medium</td>\n",
       "      <td>Tier 1</td>\n",
       "      <td>Supermarket Type1</td>\n",
       "      <td>3735.1380</td>\n",
       "      <td>FD</td>\n",
       "      <td>-4.132215</td>\n",
       "      <td>8.225540</td>\n",
       "      <td>-2.707315</td>\n",
       "    </tr>\n",
       "    <tr>\n",
       "      <th>1</th>\n",
       "      <td>DRC01</td>\n",
       "      <td>5.92</td>\n",
       "      <td>Regular</td>\n",
       "      <td>0.019278</td>\n",
       "      <td>Soft Drinks</td>\n",
       "      <td>48.2692</td>\n",
       "      <td>OUT018</td>\n",
       "      <td>2009</td>\n",
       "      <td>Medium</td>\n",
       "      <td>Tier 3</td>\n",
       "      <td>Supermarket Type2</td>\n",
       "      <td>443.4228</td>\n",
       "      <td>DR</td>\n",
       "      <td>-3.948780</td>\n",
       "      <td>6.094524</td>\n",
       "      <td>-2.632334</td>\n",
       "    </tr>\n",
       "    <tr>\n",
       "      <th>2</th>\n",
       "      <td>FDN15</td>\n",
       "      <td>17.50</td>\n",
       "      <td>Low Fat</td>\n",
       "      <td>0.016760</td>\n",
       "      <td>Meat</td>\n",
       "      <td>141.6180</td>\n",
       "      <td>OUT049</td>\n",
       "      <td>1999</td>\n",
       "      <td>Medium</td>\n",
       "      <td>Tier 1</td>\n",
       "      <td>Supermarket Type1</td>\n",
       "      <td>2097.2700</td>\n",
       "      <td>FD</td>\n",
       "      <td>-4.088756</td>\n",
       "      <td>7.648392</td>\n",
       "      <td>-2.689825</td>\n",
       "    </tr>\n",
       "    <tr>\n",
       "      <th>3</th>\n",
       "      <td>FDX07</td>\n",
       "      <td>19.20</td>\n",
       "      <td>Regular</td>\n",
       "      <td>0.056406</td>\n",
       "      <td>Fruits and Vegetables</td>\n",
       "      <td>182.0950</td>\n",
       "      <td>OUT010</td>\n",
       "      <td>1998</td>\n",
       "      <td>NaN</td>\n",
       "      <td>Tier 3</td>\n",
       "      <td>Grocery Store</td>\n",
       "      <td>732.3800</td>\n",
       "      <td>FD</td>\n",
       "      <td>-2.875177</td>\n",
       "      <td>6.596300</td>\n",
       "      <td>-2.126802</td>\n",
       "    </tr>\n",
       "    <tr>\n",
       "      <th>4</th>\n",
       "      <td>NCD19</td>\n",
       "      <td>8.93</td>\n",
       "      <td>Low Fat</td>\n",
       "      <td>0.044999</td>\n",
       "      <td>Household</td>\n",
       "      <td>53.8614</td>\n",
       "      <td>OUT013</td>\n",
       "      <td>1987</td>\n",
       "      <td>High</td>\n",
       "      <td>Tier 3</td>\n",
       "      <td>Supermarket Type1</td>\n",
       "      <td>994.7052</td>\n",
       "      <td>NC</td>\n",
       "      <td>-3.101104</td>\n",
       "      <td>6.902446</td>\n",
       "      <td>-2.243391</td>\n",
       "    </tr>\n",
       "  </tbody>\n",
       "</table>\n",
       "</div>"
      ],
      "text/plain": [
       "  Item_Identifier  Item_Weight Item_Fat_Content  Item_Visibility  \\\n",
       "0           FDA15         9.30          Low Fat         0.016047   \n",
       "1           DRC01         5.92          Regular         0.019278   \n",
       "2           FDN15        17.50          Low Fat         0.016760   \n",
       "3           FDX07        19.20          Regular         0.056406   \n",
       "4           NCD19         8.93          Low Fat         0.044999   \n",
       "\n",
       "               Item_Type  Item_MRP Outlet_Identifier  \\\n",
       "0                  Dairy  249.8092            OUT049   \n",
       "1            Soft Drinks   48.2692            OUT018   \n",
       "2                   Meat  141.6180            OUT049   \n",
       "3  Fruits and Vegetables  182.0950            OUT010   \n",
       "4              Household   53.8614            OUT013   \n",
       "\n",
       "   Outlet_Establishment_Year Outlet_Size Outlet_Location_Type  \\\n",
       "0                       1999      Medium               Tier 1   \n",
       "1                       2009      Medium               Tier 3   \n",
       "2                       1999      Medium               Tier 1   \n",
       "3                       1998         NaN               Tier 3   \n",
       "4                       1987        High               Tier 3   \n",
       "\n",
       "         Outlet_Type  Item_Outlet_Sales Item_Type_Reduced  \\\n",
       "0  Supermarket Type1          3735.1380                FD   \n",
       "1  Supermarket Type2           443.4228                DR   \n",
       "2  Supermarket Type1          2097.2700                FD   \n",
       "3      Grocery Store           732.3800                FD   \n",
       "4  Supermarket Type1           994.7052                NC   \n",
       "\n",
       "   Item_Visibility_Log  Item_Outlet_Sales_log  Item_Visibility_BoxCox  \n",
       "0            -4.132215               8.225540               -2.707315  \n",
       "1            -3.948780               6.094524               -2.632334  \n",
       "2            -4.088756               7.648392               -2.689825  \n",
       "3            -2.875177               6.596300               -2.126802  \n",
       "4            -3.101104               6.902446               -2.243391  "
      ]
     },
     "execution_count": 397,
     "metadata": {},
     "output_type": "execute_result"
    }
   ],
   "source": [
    "train.head()"
   ]
  },
  {
   "cell_type": "markdown",
   "metadata": {},
   "source": [
    "###### Create New Numerical Features "
   ]
  },
  {
   "cell_type": "code",
   "execution_count": 398,
   "metadata": {},
   "outputs": [],
   "source": [
    "### Create new features \n",
    "train['Item_Weight_div_Item_Visibility'] = train['Item_Weight']/train['Item_Visibility']"
   ]
  },
  {
   "cell_type": "code",
   "execution_count": 399,
   "metadata": {},
   "outputs": [
    {
     "data": {
      "image/png": "[encoded data removed]",
      "text/plain": [
       "<Figure size 432x288 with 1 Axes>"
      ]
     },
     "metadata": {
      "needs_background": "light"
     },
     "output_type": "display_data"
    }
   ],
   "source": [
    "plt.scatter(train['Item_Weight_div_Item_Visibility'] , train.Item_Outlet_Sales_log )\n",
    "plt.show()"
   ]
  },
  {
   "cell_type": "code",
   "execution_count": 400,
   "metadata": {},
   "outputs": [],
   "source": [
    "train['Item_MRP_div_Item_Weight'] = train['Item_MRP']/train['Item_Weight']"
   ]
  },
  {
   "cell_type": "code",
   "execution_count": 401,
   "metadata": {},
   "outputs": [
    {
     "data": {
      "image/png": "[encoded data removed]",
      "text/plain": [
       "<Figure size 432x288 with 1 Axes>"
      ]
     },
     "metadata": {
      "needs_background": "light"
     },
     "output_type": "display_data"
    }
   ],
   "source": [
    "plt.scatter(train['Item_MRP_div_Item_Weight'], train.Item_Outlet_Sales_log )\n",
    "plt.show()"
   ]
  },
  {
   "cell_type": "code",
   "execution_count": 402,
   "metadata": {},
   "outputs": [],
   "source": [
    "train['Vis_div_Weight_dev_MRP'] = train['Item_Visibility']/(train['Item_Weight']/train['Item_MRP'] )"
   ]
  },
  {
   "cell_type": "code",
   "execution_count": 403,
   "metadata": {},
   "outputs": [
    {
     "data": {
      "image/png": "[encoded data removed]",
      "text/plain": [
       "<Figure size 432x288 with 1 Axes>"
      ]
     },
     "metadata": {
      "needs_background": "light"
     },
     "output_type": "display_data"
    }
   ],
   "source": [
    "plt.scatter(train['Vis_div_Weight_dev_MRP'] , train.Item_Outlet_Sales_log )\n",
    "plt.show()"
   ]
  },
  {
   "cell_type": "markdown",
   "metadata": {},
   "source": [
    "#### Create similar new features in test data"
   ]
  },
  {
   "cell_type": "code",
   "execution_count": 404,
   "metadata": {},
   "outputs": [],
   "source": [
    "test['Item_Weight_div_Item_Visibility'] = test['Item_Weight']/test['Item_Visibility']\n",
    "test['Item_MRP_div_Item_Weight'] = test['Item_MRP']/test['Item_Weight']\n",
    "test['Vis_div_Weight_dev_MRP'] = test['Item_Visibility']/(test['Item_Weight']/test['Item_MRP'] )"
   ]
  },
  {
   "cell_type": "code",
   "execution_count": 405,
   "metadata": {},
   "outputs": [
    {
     "data": {
      "text/plain": [
       "Index(['Item_Identifier', 'Item_Weight', 'Item_Fat_Content', 'Item_Visibility',\n",
       "       'Item_Type', 'Item_MRP', 'Outlet_Identifier',\n",
       "       'Outlet_Establishment_Year', 'Outlet_Size', 'Outlet_Location_Type',\n",
       "       'Outlet_Type', 'Item_Outlet_Sales', 'Item_Type_Reduced',\n",
       "       'Item_Visibility_Log', 'Item_Outlet_Sales_log',\n",
       "       'Item_Visibility_BoxCox', 'Item_Weight_div_Item_Visibility',\n",
       "       'Item_MRP_div_Item_Weight', 'Vis_div_Weight_dev_MRP'],\n",
       "      dtype='object')"
      ]
     },
     "execution_count": 405,
     "metadata": {},
     "output_type": "execute_result"
    }
   ],
   "source": [
    "train.columns"
   ]
  },
  {
   "cell_type": "code",
   "execution_count": 406,
   "metadata": {},
   "outputs": [],
   "source": [
    "num = ['Item_MRP','Item_Visibility_BoxCox', 'Item_Weight_div_Item_Visibility',\n",
    "       'Item_MRP_div_Item_Weight', 'Vis_div_Weight_dev_MRP']"
   ]
  },
  {
   "cell_type": "code",
   "execution_count": 407,
   "metadata": {},
   "outputs": [
    {
     "data": {
      "text/html": [
       "<div>\n",
       "<style scoped>\n",
       "    .dataframe tbody tr th:only-of-type {\n",
       "        vertical-align: middle;\n",
       "    }\n",
       "\n",
       "    .dataframe tbody tr th {\n",
       "        vertical-align: top;\n",
       "    }\n",
       "\n",
       "    .dataframe thead th {\n",
       "        text-align: right;\n",
       "    }\n",
       "</style>\n",
       "<table border=\"1\" class=\"dataframe\">\n",
       "  <thead>\n",
       "    <tr style=\"text-align: right;\">\n",
       "      <th></th>\n",
       "      <th>Item_MRP</th>\n",
       "      <th>Item_Visibility_BoxCox</th>\n",
       "      <th>Item_Weight_div_Item_Visibility</th>\n",
       "      <th>Item_MRP_div_Item_Weight</th>\n",
       "      <th>Vis_div_Weight_dev_MRP</th>\n",
       "    </tr>\n",
       "  </thead>\n",
       "  <tbody>\n",
       "    <tr>\n",
       "      <th>0</th>\n",
       "      <td>249.8092</td>\n",
       "      <td>-2.707315</td>\n",
       "      <td>579.536708</td>\n",
       "      <td>26.861204</td>\n",
       "      <td>0.431050</td>\n",
       "    </tr>\n",
       "    <tr>\n",
       "      <th>1</th>\n",
       "      <td>48.2692</td>\n",
       "      <td>-2.632334</td>\n",
       "      <td>307.082357</td>\n",
       "      <td>8.153581</td>\n",
       "      <td>0.157186</td>\n",
       "    </tr>\n",
       "    <tr>\n",
       "      <th>2</th>\n",
       "      <td>141.6180</td>\n",
       "      <td>-2.689825</td>\n",
       "      <td>1044.148072</td>\n",
       "      <td>8.092457</td>\n",
       "      <td>0.135630</td>\n",
       "    </tr>\n",
       "    <tr>\n",
       "      <th>3</th>\n",
       "      <td>182.0950</td>\n",
       "      <td>-2.126802</td>\n",
       "      <td>340.388542</td>\n",
       "      <td>9.484115</td>\n",
       "      <td>0.534962</td>\n",
       "    </tr>\n",
       "    <tr>\n",
       "      <th>4</th>\n",
       "      <td>53.8614</td>\n",
       "      <td>-2.243391</td>\n",
       "      <td>198.446738</td>\n",
       "      <td>6.031512</td>\n",
       "      <td>0.271415</td>\n",
       "    </tr>\n",
       "  </tbody>\n",
       "</table>\n",
       "</div>"
      ],
      "text/plain": [
       "   Item_MRP  Item_Visibility_BoxCox  Item_Weight_div_Item_Visibility  \\\n",
       "0  249.8092               -2.707315                       579.536708   \n",
       "1   48.2692               -2.632334                       307.082357   \n",
       "2  141.6180               -2.689825                      1044.148072   \n",
       "3  182.0950               -2.126802                       340.388542   \n",
       "4   53.8614               -2.243391                       198.446738   \n",
       "\n",
       "   Item_MRP_div_Item_Weight  Vis_div_Weight_dev_MRP  \n",
       "0                 26.861204                0.431050  \n",
       "1                  8.153581                0.157186  \n",
       "2                  8.092457                0.135630  \n",
       "3                  9.484115                0.534962  \n",
       "4                  6.031512                0.271415  "
      ]
     },
     "execution_count": 407,
     "metadata": {},
     "output_type": "execute_result"
    }
   ],
   "source": [
    "train[num].head()"
   ]
  },
  {
   "cell_type": "code",
   "execution_count": 408,
   "metadata": {},
   "outputs": [],
   "source": [
    "from sklearn.preprocessing import MinMaxScaler\n",
    "scaler = MinMaxScaler()\n",
    "scaler.fit(train[['Item_MRP' , 'Item_Weight_div_Item_Visibility' , 'Item_MRP_div_Item_Weight']])\n",
    "train[['Item_MRP' , 'Item_Weight_div_Item_Visibility' , 'Item_MRP_div_Item_Weight']] = scaler.transform(train[['Item_MRP' , 'Item_Weight_div_Item_Visibility' , 'Item_MRP_div_Item_Weight']])"
   ]
  },
  {
   "cell_type": "code",
   "execution_count": 409,
   "metadata": {},
   "outputs": [
    {
     "data": {
      "text/html": [
       "<div>\n",
       "<style scoped>\n",
       "    .dataframe tbody tr th:only-of-type {\n",
       "        vertical-align: middle;\n",
       "    }\n",
       "\n",
       "    .dataframe tbody tr th {\n",
       "        vertical-align: top;\n",
       "    }\n",
       "\n",
       "    .dataframe thead th {\n",
       "        text-align: right;\n",
       "    }\n",
       "</style>\n",
       "<table border=\"1\" class=\"dataframe\">\n",
       "  <thead>\n",
       "    <tr style=\"text-align: right;\">\n",
       "      <th></th>\n",
       "      <th>Item_MRP</th>\n",
       "      <th>Item_Visibility_BoxCox</th>\n",
       "      <th>Item_Weight_div_Item_Visibility</th>\n",
       "      <th>Item_MRP_div_Item_Weight</th>\n",
       "      <th>Vis_div_Weight_dev_MRP</th>\n",
       "    </tr>\n",
       "  </thead>\n",
       "  <tbody>\n",
       "    <tr>\n",
       "      <th>0</th>\n",
       "      <td>0.927507</td>\n",
       "      <td>-2.707315</td>\n",
       "      <td>0.147812</td>\n",
       "      <td>0.512840</td>\n",
       "      <td>0.431050</td>\n",
       "    </tr>\n",
       "    <tr>\n",
       "      <th>1</th>\n",
       "      <td>0.072068</td>\n",
       "      <td>-2.632334</td>\n",
       "      <td>0.075601</td>\n",
       "      <td>0.131750</td>\n",
       "      <td>0.157186</td>\n",
       "    </tr>\n",
       "    <tr>\n",
       "      <th>2</th>\n",
       "      <td>0.468288</td>\n",
       "      <td>-2.689825</td>\n",
       "      <td>0.270954</td>\n",
       "      <td>0.130505</td>\n",
       "      <td>0.135630</td>\n",
       "    </tr>\n",
       "    <tr>\n",
       "      <th>3</th>\n",
       "      <td>0.640093</td>\n",
       "      <td>-2.126802</td>\n",
       "      <td>0.084428</td>\n",
       "      <td>0.158854</td>\n",
       "      <td>0.534962</td>\n",
       "    </tr>\n",
       "    <tr>\n",
       "      <th>4</th>\n",
       "      <td>0.095805</td>\n",
       "      <td>-2.243391</td>\n",
       "      <td>0.046808</td>\n",
       "      <td>0.088522</td>\n",
       "      <td>0.271415</td>\n",
       "    </tr>\n",
       "  </tbody>\n",
       "</table>\n",
       "</div>"
      ],
      "text/plain": [
       "   Item_MRP  Item_Visibility_BoxCox  Item_Weight_div_Item_Visibility  \\\n",
       "0  0.927507               -2.707315                         0.147812   \n",
       "1  0.072068               -2.632334                         0.075601   \n",
       "2  0.468288               -2.689825                         0.270954   \n",
       "3  0.640093               -2.126802                         0.084428   \n",
       "4  0.095805               -2.243391                         0.046808   \n",
       "\n",
       "   Item_MRP_div_Item_Weight  Vis_div_Weight_dev_MRP  \n",
       "0                  0.512840                0.431050  \n",
       "1                  0.131750                0.157186  \n",
       "2                  0.130505                0.135630  \n",
       "3                  0.158854                0.534962  \n",
       "4                  0.088522                0.271415  "
      ]
     },
     "execution_count": 409,
     "metadata": {},
     "output_type": "execute_result"
    }
   ],
   "source": [
    "train[num].head()"
   ]
  },
  {
   "cell_type": "code",
   "execution_count": 410,
   "metadata": {},
   "outputs": [],
   "source": [
    "## Scale test data as well\n",
    "scaler = MinMaxScaler()\n",
    "scaler.fit(test[['Item_MRP' , 'Item_Weight_div_Item_Visibility' , 'Item_MRP_div_Item_Weight']])\n",
    "test[['Item_MRP' , 'Item_Weight_div_Item_Visibility' , 'Item_MRP_div_Item_Weight']] = scaler.transform(test[['Item_MRP' , 'Item_Weight_div_Item_Visibility' , 'Item_MRP_div_Item_Weight']])"
   ]
  },
  {
   "cell_type": "markdown",
   "metadata": {},
   "source": [
    "### Categorical feature Analysis"
   ]
  },
  {
   "cell_type": "code",
   "execution_count": 411,
   "metadata": {},
   "outputs": [
    {
     "data": {
      "text/plain": [
       "['Item_Fat_Content',\n",
       " 'Item_Type',\n",
       " 'Outlet_Size',\n",
       " 'Outlet_Location_Type',\n",
       " 'Outlet_Type']"
      ]
     },
     "execution_count": 411,
     "metadata": {},
     "output_type": "execute_result"
    }
   ],
   "source": [
    "categorical"
   ]
  },
  {
   "cell_type": "markdown",
   "metadata": {},
   "source": [
    "Lets Find Ordinal and Nominal variables "
   ]
  },
  {
   "cell_type": "code",
   "execution_count": 412,
   "metadata": {},
   "outputs": [],
   "source": [
    "def CatBar(data,feature):\n",
    "    fig = data[feature].value_counts().plot.bar()\n",
    "    fig.set_title(feature)\n",
    "    fig.set_ylabel('Number')\n",
    "    plt.show()"
   ]
  },
  {
   "cell_type": "code",
   "execution_count": 413,
   "metadata": {},
   "outputs": [
    {
     "data": {
      "image/png": "[encoded data removed]",
      "text/plain": [
       "<Figure size 432x288 with 1 Axes>"
      ]
     },
     "metadata": {
      "needs_background": "light"
     },
     "output_type": "display_data"
    },
    {
     "data": {
      "image/png": "[encoded data removed]",
      "text/plain": [
       "<Figure size 432x288 with 1 Axes>"
      ]
     },
     "metadata": {
      "needs_background": "light"
     },
     "output_type": "display_data"
    },
    {
     "data": {
      "image/png": "[encoded data removed]",
      "text/plain": [
       "<Figure size 432x288 with 1 Axes>"
      ]
     },
     "metadata": {
      "needs_background": "light"
     },
     "output_type": "display_data"
    },
    {
     "data": {
      "image/png": "[encoded data removed]",
      "text/plain": [
       "<Figure size 432x288 with 1 Axes>"
      ]
     },
     "metadata": {
      "needs_background": "light"
     },
     "output_type": "display_data"
    },
    {
     "data": {
      "image/png": "[encoded data removed]",
      "text/plain": [
       "<Figure size 432x288 with 1 Axes>"
      ]
     },
     "metadata": {
      "needs_background": "light"
     },
     "output_type": "display_data"
    }
   ],
   "source": [
    "for f in categorical:\n",
    "    CatBar(train,f)\n",
    "    "
   ]
  },
  {
   "cell_type": "markdown",
   "metadata": {},
   "source": [
    "##### Observations -- >\n",
    "Ordinal features -- >\n",
    "\n",
    "1. Outlet_Size (Null Value population is expected)\n",
    "2. Outlet_location_Type\n",
    "3. Outlet_Type\n",
    "\n",
    "Nominal features -- >\n",
    "1. Item_Fat_Content ( This feature actually has only 2 distinct values)\n",
    "2. Item_Type (This feature has high cardinality)\n"
   ]
  },
  {
   "cell_type": "code",
   "execution_count": 414,
   "metadata": {},
   "outputs": [
    {
     "data": {
      "text/plain": [
       "Low Fat    5089\n",
       "Regular    2889\n",
       "LF          316\n",
       "reg         117\n",
       "low fat     112\n",
       "Name: Item_Fat_Content, dtype: int64"
      ]
     },
     "execution_count": 414,
     "metadata": {},
     "output_type": "execute_result"
    }
   ],
   "source": [
    "train.Item_Fat_Content.value_counts()"
   ]
  },
  {
   "cell_type": "code",
   "execution_count": 415,
   "metadata": {},
   "outputs": [],
   "source": [
    "train['Item_Fat_Content'] = train['Item_Fat_Content'].replace({'LF': 'Low Fat' , 'low fat' : 'Low Fat' , 'reg' : 'Regular' }) "
   ]
  },
  {
   "cell_type": "code",
   "execution_count": 416,
   "metadata": {},
   "outputs": [
    {
     "data": {
      "text/plain": [
       "Low Fat    5517\n",
       "Regular    3006\n",
       "Name: Item_Fat_Content, dtype: int64"
      ]
     },
     "execution_count": 416,
     "metadata": {},
     "output_type": "execute_result"
    }
   ],
   "source": [
    "train.Item_Fat_Content.value_counts()"
   ]
  },
  {
   "cell_type": "markdown",
   "metadata": {},
   "source": [
    "###### Bivariate Analysis"
   ]
  },
  {
   "cell_type": "markdown",
   "metadata": {},
   "source": [
    "Categorical Vs Categorical"
   ]
  },
  {
   "cell_type": "code",
   "execution_count": 417,
   "metadata": {},
   "outputs": [
    {
     "data": {
      "text/plain": [
       "<matplotlib.axes._subplots.AxesSubplot at 0x20bc6b713c8>"
      ]
     },
     "execution_count": 417,
     "metadata": {},
     "output_type": "execute_result"
    },
    {
     "data": {
      "image/png": "[encoded data removed]",
      "text/plain": [
       "<Figure size 576x576 with 1 Axes>"
      ]
     },
     "metadata": {
      "needs_background": "light"
     },
     "output_type": "display_data"
    }
   ],
   "source": [
    "pd.crosstab(index= train['Outlet_Size'] , columns=train['Outlet_Type']).plot(kind=\"bar\", \n",
    "                 figsize=(8,8),\n",
    "                 stacked=True)"
   ]
  },
  {
   "cell_type": "markdown",
   "metadata": {},
   "source": [
    "###### Observation -- >\n",
    "From above , we can see Which Outlet_Types falls under which Outlet_Sizes , we can use this relation to populate Null Outlet_Size"
   ]
  },
  {
   "cell_type": "code",
   "execution_count": 418,
   "metadata": {},
   "outputs": [
    {
     "data": {
      "text/plain": [
       "Supermarket Type1    1855\n",
       "Grocery Store         555\n",
       "Name: Outlet_Type, dtype: int64"
      ]
     },
     "execution_count": 418,
     "metadata": {},
     "output_type": "execute_result"
    }
   ],
   "source": [
    "train[train['Outlet_Size'].isna()].Outlet_Type.value_counts()"
   ]
  },
  {
   "cell_type": "code",
   "execution_count": 419,
   "metadata": {},
   "outputs": [
    {
     "data": {
      "text/plain": [
       "Supermarket Type1    1236\n",
       "Grocery Store         370\n",
       "Name: Outlet_Type, dtype: int64"
      ]
     },
     "execution_count": 419,
     "metadata": {},
     "output_type": "execute_result"
    }
   ],
   "source": [
    "test[test['Outlet_Size'].isna()].Outlet_Type.value_counts()"
   ]
  },
  {
   "cell_type": "code",
   "execution_count": 420,
   "metadata": {},
   "outputs": [],
   "source": [
    "cond=(train['Outlet_Size'].isna())\n",
    "train.loc[cond & (train['Outlet_Type']=='Grocery Store'),'Outlet_Size']='Small'\n",
    "train.loc[cond & (train['Outlet_Type']=='Supermarket Type1'),'Outlet_Size']='High'\n"
   ]
  },
  {
   "cell_type": "code",
   "execution_count": 421,
   "metadata": {},
   "outputs": [
    {
     "data": {
      "text/plain": [
       "Small     2943\n",
       "Medium    2793\n",
       "High      2787\n",
       "Name: Outlet_Size, dtype: int64"
      ]
     },
     "execution_count": 421,
     "metadata": {},
     "output_type": "execute_result"
    }
   ],
   "source": [
    "train.Outlet_Size.value_counts(dropna=False)"
   ]
  },
  {
   "cell_type": "markdown",
   "metadata": {},
   "source": [
    "Null value for categorical feature is populated with correct data"
   ]
  },
  {
   "cell_type": "markdown",
   "metadata": {},
   "source": [
    "####### Categorical Vs Numerical"
   ]
  },
  {
   "cell_type": "code",
   "execution_count": 422,
   "metadata": {},
   "outputs": [],
   "source": [
    "def catBox(data,feature) :\n",
    "    data.boxplot(column = 'Item_Outlet_Sales_log' , by = feature)\n",
    "    plt.show()"
   ]
  },
  {
   "cell_type": "code",
   "execution_count": 423,
   "metadata": {},
   "outputs": [
    {
     "data": {
      "image/png": "[encoded data removed]",
      "text/plain": [
       "<Figure size 432x288 with 1 Axes>"
      ]
     },
     "metadata": {
      "needs_background": "light"
     },
     "output_type": "display_data"
    },
    {
     "data": {
      "image/png": "[encoded data removed]",
      "text/plain": [
       "<Figure size 432x288 with 1 Axes>"
      ]
     },
     "metadata": {
      "needs_background": "light"
     },
     "output_type": "display_data"
    },
    {
     "data": {
      "image/png": "[encoded data removed]",
      "text/plain": [
       "<Figure size 432x288 with 1 Axes>"
      ]
     },
     "metadata": {
      "needs_background": "light"
     },
     "output_type": "display_data"
    },
    {
     "data": {
      "image/png": "[encoded data removed]",
      "text/plain": [
       "<Figure size 432x288 with 1 Axes>"
      ]
     },
     "metadata": {
      "needs_background": "light"
     },
     "output_type": "display_data"
    },
    {
     "data": {
      "image/png": "[encoded data removed]",
      "text/plain": [
       "<Figure size 432x288 with 1 Axes>"
      ]
     },
     "metadata": {
      "needs_background": "light"
     },
     "output_type": "display_data"
    }
   ],
   "source": [
    "for i in categorical:\n",
    "    catBox(train, i)"
   ]
  },
  {
   "cell_type": "code",
   "execution_count": 424,
   "metadata": {},
   "outputs": [
    {
     "data": {
      "text/html": [
       "<div>\n",
       "<style scoped>\n",
       "    .dataframe tbody tr th:only-of-type {\n",
       "        vertical-align: middle;\n",
       "    }\n",
       "\n",
       "    .dataframe tbody tr th {\n",
       "        vertical-align: top;\n",
       "    }\n",
       "\n",
       "    .dataframe thead th {\n",
       "        text-align: right;\n",
       "    }\n",
       "</style>\n",
       "<table border=\"1\" class=\"dataframe\">\n",
       "  <thead>\n",
       "    <tr style=\"text-align: right;\">\n",
       "      <th>Item_Type</th>\n",
       "      <th>Baking Goods</th>\n",
       "      <th>Breads</th>\n",
       "      <th>Breakfast</th>\n",
       "      <th>Canned</th>\n",
       "      <th>Dairy</th>\n",
       "      <th>Frozen Foods</th>\n",
       "      <th>Fruits and Vegetables</th>\n",
       "      <th>Hard Drinks</th>\n",
       "      <th>Health and Hygiene</th>\n",
       "      <th>Household</th>\n",
       "      <th>Meat</th>\n",
       "      <th>Others</th>\n",
       "      <th>Seafood</th>\n",
       "      <th>Snack Foods</th>\n",
       "      <th>Soft Drinks</th>\n",
       "      <th>Starchy Foods</th>\n",
       "    </tr>\n",
       "    <tr>\n",
       "      <th>Outlet_Location_Type</th>\n",
       "      <th></th>\n",
       "      <th></th>\n",
       "      <th></th>\n",
       "      <th></th>\n",
       "      <th></th>\n",
       "      <th></th>\n",
       "      <th></th>\n",
       "      <th></th>\n",
       "      <th></th>\n",
       "      <th></th>\n",
       "      <th></th>\n",
       "      <th></th>\n",
       "      <th></th>\n",
       "      <th></th>\n",
       "      <th></th>\n",
       "      <th></th>\n",
       "    </tr>\n",
       "  </thead>\n",
       "  <tbody>\n",
       "    <tr>\n",
       "      <th>Tier 1</th>\n",
       "      <td>7.001812</td>\n",
       "      <td>7.155601</td>\n",
       "      <td>6.797418</td>\n",
       "      <td>7.138686</td>\n",
       "      <td>7.019951</td>\n",
       "      <td>7.070688</td>\n",
       "      <td>7.149540</td>\n",
       "      <td>7.131630</td>\n",
       "      <td>7.035954</td>\n",
       "      <td>7.160563</td>\n",
       "      <td>7.032986</td>\n",
       "      <td>6.847150</td>\n",
       "      <td>6.946538</td>\n",
       "      <td>7.124717</td>\n",
       "      <td>6.932848</td>\n",
       "      <td>7.382298</td>\n",
       "    </tr>\n",
       "    <tr>\n",
       "      <th>Tier 2</th>\n",
       "      <td>7.370374</td>\n",
       "      <td>7.499398</td>\n",
       "      <td>7.578526</td>\n",
       "      <td>7.610186</td>\n",
       "      <td>7.527111</td>\n",
       "      <td>7.466229</td>\n",
       "      <td>7.538520</td>\n",
       "      <td>7.504516</td>\n",
       "      <td>7.439761</td>\n",
       "      <td>7.583983</td>\n",
       "      <td>7.541261</td>\n",
       "      <td>7.513890</td>\n",
       "      <td>7.591683</td>\n",
       "      <td>7.545554</td>\n",
       "      <td>7.424233</td>\n",
       "      <td>7.550148</td>\n",
       "    </tr>\n",
       "    <tr>\n",
       "      <th>Tier 3</th>\n",
       "      <td>7.154053</td>\n",
       "      <td>7.322736</td>\n",
       "      <td>7.119715</td>\n",
       "      <td>7.280214</td>\n",
       "      <td>7.288310</td>\n",
       "      <td>7.197081</td>\n",
       "      <td>7.322797</td>\n",
       "      <td>7.188463</td>\n",
       "      <td>7.193276</td>\n",
       "      <td>7.268794</td>\n",
       "      <td>7.277464</td>\n",
       "      <td>7.151516</td>\n",
       "      <td>7.219334</td>\n",
       "      <td>7.385092</td>\n",
       "      <td>7.218855</td>\n",
       "      <td>7.246678</td>\n",
       "    </tr>\n",
       "  </tbody>\n",
       "</table>\n",
       "</div>"
      ],
      "text/plain": [
       "Item_Type             Baking Goods    Breads  Breakfast    Canned     Dairy  \\\n",
       "Outlet_Location_Type                                                          \n",
       "Tier 1                    7.001812  7.155601   6.797418  7.138686  7.019951   \n",
       "Tier 2                    7.370374  7.499398   7.578526  7.610186  7.527111   \n",
       "Tier 3                    7.154053  7.322736   7.119715  7.280214  7.288310   \n",
       "\n",
       "Item_Type             Frozen Foods  Fruits and Vegetables  Hard Drinks  \\\n",
       "Outlet_Location_Type                                                     \n",
       "Tier 1                    7.070688               7.149540     7.131630   \n",
       "Tier 2                    7.466229               7.538520     7.504516   \n",
       "Tier 3                    7.197081               7.322797     7.188463   \n",
       "\n",
       "Item_Type             Health and Hygiene  Household      Meat    Others  \\\n",
       "Outlet_Location_Type                                                      \n",
       "Tier 1                          7.035954   7.160563  7.032986  6.847150   \n",
       "Tier 2                          7.439761   7.583983  7.541261  7.513890   \n",
       "Tier 3                          7.193276   7.268794  7.277464  7.151516   \n",
       "\n",
       "Item_Type              Seafood  Snack Foods  Soft Drinks  Starchy Foods  \n",
       "Outlet_Location_Type                                                     \n",
       "Tier 1                6.946538     7.124717     6.932848       7.382298  \n",
       "Tier 2                7.591683     7.545554     7.424233       7.550148  \n",
       "Tier 3                7.219334     7.385092     7.218855       7.246678  "
      ]
     },
     "execution_count": 424,
     "metadata": {},
     "output_type": "execute_result"
    }
   ],
   "source": [
    "pd.pivot_table(data = train , index = 'Outlet_Location_Type' , columns = 'Item_Type' , values = 'Item_Outlet_Sales_log')"
   ]
  },
  {
   "cell_type": "code",
   "execution_count": 425,
   "metadata": {},
   "outputs": [
    {
     "data": {
      "text/html": [
       "<div>\n",
       "<style scoped>\n",
       "    .dataframe tbody tr th:only-of-type {\n",
       "        vertical-align: middle;\n",
       "    }\n",
       "\n",
       "    .dataframe tbody tr th {\n",
       "        vertical-align: top;\n",
       "    }\n",
       "\n",
       "    .dataframe thead th {\n",
       "        text-align: right;\n",
       "    }\n",
       "</style>\n",
       "<table border=\"1\" class=\"dataframe\">\n",
       "  <thead>\n",
       "    <tr style=\"text-align: right;\">\n",
       "      <th>Item_Type</th>\n",
       "      <th>Baking Goods</th>\n",
       "      <th>Breads</th>\n",
       "      <th>Breakfast</th>\n",
       "      <th>Canned</th>\n",
       "      <th>Dairy</th>\n",
       "      <th>Frozen Foods</th>\n",
       "      <th>Fruits and Vegetables</th>\n",
       "      <th>Hard Drinks</th>\n",
       "      <th>Health and Hygiene</th>\n",
       "      <th>Household</th>\n",
       "      <th>Meat</th>\n",
       "      <th>Others</th>\n",
       "      <th>Seafood</th>\n",
       "      <th>Snack Foods</th>\n",
       "      <th>Soft Drinks</th>\n",
       "      <th>Starchy Foods</th>\n",
       "    </tr>\n",
       "    <tr>\n",
       "      <th>Item_Type_Reduced</th>\n",
       "      <th></th>\n",
       "      <th></th>\n",
       "      <th></th>\n",
       "      <th></th>\n",
       "      <th></th>\n",
       "      <th></th>\n",
       "      <th></th>\n",
       "      <th></th>\n",
       "      <th></th>\n",
       "      <th></th>\n",
       "      <th></th>\n",
       "      <th></th>\n",
       "      <th></th>\n",
       "      <th></th>\n",
       "      <th></th>\n",
       "      <th></th>\n",
       "    </tr>\n",
       "  </thead>\n",
       "  <tbody>\n",
       "    <tr>\n",
       "      <th>DR</th>\n",
       "      <td>NaN</td>\n",
       "      <td>NaN</td>\n",
       "      <td>NaN</td>\n",
       "      <td>NaN</td>\n",
       "      <td>7.020979</td>\n",
       "      <td>NaN</td>\n",
       "      <td>NaN</td>\n",
       "      <td>7.279395</td>\n",
       "      <td>NaN</td>\n",
       "      <td>NaN</td>\n",
       "      <td>NaN</td>\n",
       "      <td>NaN</td>\n",
       "      <td>NaN</td>\n",
       "      <td>NaN</td>\n",
       "      <td>7.214189</td>\n",
       "      <td>NaN</td>\n",
       "    </tr>\n",
       "    <tr>\n",
       "      <th>FD</th>\n",
       "      <td>7.181027</td>\n",
       "      <td>7.337244</td>\n",
       "      <td>7.156498</td>\n",
       "      <td>7.354487</td>\n",
       "      <td>7.350148</td>\n",
       "      <td>7.247892</td>\n",
       "      <td>7.34527</td>\n",
       "      <td>NaN</td>\n",
       "      <td>NaN</td>\n",
       "      <td>NaN</td>\n",
       "      <td>7.284296</td>\n",
       "      <td>NaN</td>\n",
       "      <td>7.266343</td>\n",
       "      <td>7.366242</td>\n",
       "      <td>NaN</td>\n",
       "      <td>7.388342</td>\n",
       "    </tr>\n",
       "    <tr>\n",
       "      <th>NC</th>\n",
       "      <td>NaN</td>\n",
       "      <td>NaN</td>\n",
       "      <td>NaN</td>\n",
       "      <td>NaN</td>\n",
       "      <td>NaN</td>\n",
       "      <td>NaN</td>\n",
       "      <td>NaN</td>\n",
       "      <td>NaN</td>\n",
       "      <td>7.230211</td>\n",
       "      <td>7.341583</td>\n",
       "      <td>NaN</td>\n",
       "      <td>7.162161</td>\n",
       "      <td>NaN</td>\n",
       "      <td>NaN</td>\n",
       "      <td>NaN</td>\n",
       "      <td>NaN</td>\n",
       "    </tr>\n",
       "  </tbody>\n",
       "</table>\n",
       "</div>"
      ],
      "text/plain": [
       "Item_Type          Baking Goods    Breads  Breakfast    Canned     Dairy  \\\n",
       "Item_Type_Reduced                                                          \n",
       "DR                          NaN       NaN        NaN       NaN  7.020979   \n",
       "FD                     7.181027  7.337244   7.156498  7.354487  7.350148   \n",
       "NC                          NaN       NaN        NaN       NaN       NaN   \n",
       "\n",
       "Item_Type          Frozen Foods  Fruits and Vegetables  Hard Drinks  \\\n",
       "Item_Type_Reduced                                                     \n",
       "DR                          NaN                    NaN     7.279395   \n",
       "FD                     7.247892                7.34527          NaN   \n",
       "NC                          NaN                    NaN          NaN   \n",
       "\n",
       "Item_Type          Health and Hygiene  Household      Meat    Others  \\\n",
       "Item_Type_Reduced                                                      \n",
       "DR                                NaN        NaN       NaN       NaN   \n",
       "FD                                NaN        NaN  7.284296       NaN   \n",
       "NC                           7.230211   7.341583       NaN  7.162161   \n",
       "\n",
       "Item_Type           Seafood  Snack Foods  Soft Drinks  Starchy Foods  \n",
       "Item_Type_Reduced                                                     \n",
       "DR                      NaN          NaN     7.214189            NaN  \n",
       "FD                 7.266343     7.366242          NaN       7.388342  \n",
       "NC                      NaN          NaN          NaN            NaN  "
      ]
     },
     "execution_count": 425,
     "metadata": {},
     "output_type": "execute_result"
    }
   ],
   "source": [
    "pd.pivot_table(data = train , index = 'Item_Type_Reduced' , columns = 'Item_Type' , values = 'Item_Outlet_Sales_log')"
   ]
  },
  {
   "cell_type": "code",
   "execution_count": 426,
   "metadata": {},
   "outputs": [
    {
     "data": {
      "text/plain": [
       "Item_Identifier                    0\n",
       "Item_Weight                        0\n",
       "Item_Fat_Content                   0\n",
       "Item_Visibility                    0\n",
       "Item_Type                          0\n",
       "Item_MRP                           0\n",
       "Outlet_Identifier                  0\n",
       "Outlet_Establishment_Year          0\n",
       "Outlet_Size                        0\n",
       "Outlet_Location_Type               0\n",
       "Outlet_Type                        0\n",
       "Item_Outlet_Sales                  0\n",
       "Item_Type_Reduced                  0\n",
       "Item_Visibility_Log                0\n",
       "Item_Outlet_Sales_log              0\n",
       "Item_Visibility_BoxCox             0\n",
       "Item_Weight_div_Item_Visibility    0\n",
       "Item_MRP_div_Item_Weight           0\n",
       "Vis_div_Weight_dev_MRP             0\n",
       "dtype: int64"
      ]
     },
     "execution_count": 426,
     "metadata": {},
     "output_type": "execute_result"
    }
   ],
   "source": [
    "train.apply(lambda x : sum(x.isnull()))"
   ]
  },
  {
   "cell_type": "code",
   "execution_count": 427,
   "metadata": {},
   "outputs": [
    {
     "data": {
      "text/plain": [
       "2009"
      ]
     },
     "execution_count": 427,
     "metadata": {},
     "output_type": "execute_result"
    }
   ],
   "source": [
    "train['Outlet_Establishment_Year'].max()"
   ]
  },
  {
   "cell_type": "code",
   "execution_count": 428,
   "metadata": {},
   "outputs": [
    {
     "data": {
      "text/plain": [
       "count    8523.000000\n",
       "mean       15.168133\n",
       "std         8.371760\n",
       "min         4.000000\n",
       "25%         9.000000\n",
       "50%        14.000000\n",
       "75%        26.000000\n",
       "max        28.000000\n",
       "Name: Years_Old, dtype: float64"
      ]
     },
     "execution_count": 428,
     "metadata": {},
     "output_type": "execute_result"
    }
   ],
   "source": [
    "train['Years_Old']= 2013- train['Outlet_Establishment_Year']  ## using 2013 as data is collected at 2013\n",
    "train['Years_Old'].describe()"
   ]
  },
  {
   "cell_type": "code",
   "execution_count": 429,
   "metadata": {},
   "outputs": [],
   "source": [
    "## Update test data\n",
    "test['Years_Old']= 2013- test['Outlet_Establishment_Year']  ## using 2013 as data is collected at 2013"
   ]
  },
  {
   "cell_type": "code",
   "execution_count": 430,
   "metadata": {},
   "outputs": [
    {
     "data": {
      "text/plain": [
       "FD    6125\n",
       "NC    1599\n",
       "DR     799\n",
       "Name: Item_Type_Reduced, dtype: int64"
      ]
     },
     "execution_count": 430,
     "metadata": {},
     "output_type": "execute_result"
    }
   ],
   "source": [
    "train['Item_Type_Reduced'].value_counts()"
   ]
  },
  {
   "cell_type": "markdown",
   "metadata": {},
   "source": [
    "####### NC items means ' Non consumables . It is not logical to devide it in Item fat content as regular or low fat.\n",
    "we can create new category for NC"
   ]
  },
  {
   "cell_type": "code",
   "execution_count": 431,
   "metadata": {},
   "outputs": [
    {
     "data": {
      "text/plain": [
       "Low Fat           3918\n",
       "Regular           3006\n",
       "Non Consumable    1599\n",
       "Name: Item_Fat_Content, dtype: int64"
      ]
     },
     "execution_count": 431,
     "metadata": {},
     "output_type": "execute_result"
    }
   ],
   "source": [
    "train.loc[train['Item_Type_Reduced'] == 'NC' , 'Item_Fat_Content'] = 'Non Consumable'\n",
    "train['Item_Fat_Content'].value_counts()"
   ]
  },
  {
   "cell_type": "code",
   "execution_count": 432,
   "metadata": {},
   "outputs": [
    {
     "data": {
      "text/plain": [
       "Low Fat           2581\n",
       "Regular           2013\n",
       "Non Consumable    1087\n",
       "Name: Item_Fat_Content, dtype: int64"
      ]
     },
     "execution_count": 432,
     "metadata": {},
     "output_type": "execute_result"
    }
   ],
   "source": [
    "test['Item_Fat_Content'] = test['Item_Fat_Content'].replace({'LF': 'Low Fat' , 'low fat' : 'Low Fat' , 'reg' : 'Regular' }) \n",
    "test.loc[test['Item_Type_Reduced'] == 'NC' , 'Item_Fat_Content'] = 'Non Consumable'\n",
    "test['Item_Fat_Content'].value_counts()"
   ]
  },
  {
   "cell_type": "code",
   "execution_count": 433,
   "metadata": {},
   "outputs": [
    {
     "data": {
      "text/plain": [
       "Item_Identifier                     object\n",
       "Item_Weight                        float64\n",
       "Item_Fat_Content                    object\n",
       "Item_Visibility                    float64\n",
       "Item_Type                           object\n",
       "Item_MRP                           float64\n",
       "Outlet_Identifier                   object\n",
       "Outlet_Establishment_Year            int64\n",
       "Outlet_Size                         object\n",
       "Outlet_Location_Type                object\n",
       "Outlet_Type                         object\n",
       "Item_Outlet_Sales                  float64\n",
       "Item_Type_Reduced                   object\n",
       "Item_Visibility_Log                float64\n",
       "Item_Outlet_Sales_log              float64\n",
       "Item_Visibility_BoxCox             float64\n",
       "Item_Weight_div_Item_Visibility    float64\n",
       "Item_MRP_div_Item_Weight           float64\n",
       "Vis_div_Weight_dev_MRP             float64\n",
       "Years_Old                            int64\n",
       "dtype: object"
      ]
     },
     "execution_count": 433,
     "metadata": {},
     "output_type": "execute_result"
    }
   ],
   "source": [
    "train.dtypes"
   ]
  },
  {
   "cell_type": "code",
   "execution_count": 434,
   "metadata": {},
   "outputs": [
    {
     "data": {
      "text/plain": [
       "Item_Identifier                     object\n",
       "Item_Weight                        float64\n",
       "Item_Visibility                    float64\n",
       "Item_Type                           object\n",
       "Item_MRP                           float64\n",
       "Outlet_Identifier                   object\n",
       "Outlet_Establishment_Year            int64\n",
       "Item_Outlet_Sales                  float64\n",
       "Item_Visibility_Log                float64\n",
       "Item_Outlet_Sales_log              float64\n",
       "Item_Visibility_BoxCox             float64\n",
       "Item_Weight_div_Item_Visibility    float64\n",
       "Item_MRP_div_Item_Weight           float64\n",
       "Vis_div_Weight_dev_MRP             float64\n",
       "Years_Old                            int64\n",
       "Item_Fat_Content_Low Fat             uint8\n",
       "Item_Fat_Content_Non Consumable      uint8\n",
       "Item_Fat_Content_Regular             uint8\n",
       "Outlet_Size_High                     uint8\n",
       "Outlet_Size_Medium                   uint8\n",
       "Outlet_Size_Small                    uint8\n",
       "Outlet_Location_Type_Tier 1          uint8\n",
       "Outlet_Location_Type_Tier 2          uint8\n",
       "Outlet_Location_Type_Tier 3          uint8\n",
       "Outlet_Type_Grocery Store            uint8\n",
       "Outlet_Type_Supermarket Type1        uint8\n",
       "Outlet_Type_Supermarket Type2        uint8\n",
       "Outlet_Type_Supermarket Type3        uint8\n",
       "Item_Type_Reduced_DR                 uint8\n",
       "Item_Type_Reduced_FD                 uint8\n",
       "Item_Type_Reduced_NC                 uint8\n",
       "dtype: object"
      ]
     },
     "execution_count": 434,
     "metadata": {},
     "output_type": "execute_result"
    }
   ],
   "source": [
    "# One hot encoding\n",
    "train = pd.get_dummies(train , columns = ['Item_Fat_Content' , 'Outlet_Size' , 'Outlet_Location_Type' , 'Outlet_Type'\n",
    "                                         , 'Item_Type_Reduced'])\n",
    "train.dtypes"
   ]
  },
  {
   "cell_type": "code",
   "execution_count": 435,
   "metadata": {},
   "outputs": [
    {
     "data": {
      "text/plain": [
       "Item_Identifier                     object\n",
       "Item_Weight                        float64\n",
       "Item_Visibility                    float64\n",
       "Item_Type                           object\n",
       "Item_MRP                           float64\n",
       "Outlet_Identifier                   object\n",
       "Outlet_Establishment_Year            int64\n",
       "Item_Visibility_Log                float64\n",
       "Item_Visibility_BoxCox             float64\n",
       "Item_Weight_div_Item_Visibility    float64\n",
       "Item_MRP_div_Item_Weight           float64\n",
       "Vis_div_Weight_dev_MRP             float64\n",
       "Years_Old                            int64\n",
       "Item_Fat_Content_Low Fat             uint8\n",
       "Item_Fat_Content_Non Consumable      uint8\n",
       "Item_Fat_Content_Regular             uint8\n",
       "Outlet_Size_High                     uint8\n",
       "Outlet_Size_Medium                   uint8\n",
       "Outlet_Size_Small                    uint8\n",
       "Outlet_Location_Type_Tier 1          uint8\n",
       "Outlet_Location_Type_Tier 2          uint8\n",
       "Outlet_Location_Type_Tier 3          uint8\n",
       "Outlet_Type_Grocery Store            uint8\n",
       "Outlet_Type_Supermarket Type1        uint8\n",
       "Outlet_Type_Supermarket Type2        uint8\n",
       "Outlet_Type_Supermarket Type3        uint8\n",
       "Item_Type_Reduced_DR                 uint8\n",
       "Item_Type_Reduced_FD                 uint8\n",
       "Item_Type_Reduced_NC                 uint8\n",
       "dtype: object"
      ]
     },
     "execution_count": 435,
     "metadata": {},
     "output_type": "execute_result"
    }
   ],
   "source": [
    "# One hot encoding\n",
    "test = pd.get_dummies(test , columns = ['Item_Fat_Content' , 'Outlet_Size' , 'Outlet_Location_Type' , 'Outlet_Type'\n",
    "                                         , 'Item_Type_Reduced'])\n",
    "test.dtypes"
   ]
  },
  {
   "cell_type": "code",
   "execution_count": 436,
   "metadata": {},
   "outputs": [],
   "source": [
    "## Drop columns which are transformed \n",
    "train.drop(['Item_Type' , 'Outlet_Establishment_Year' , 'Item_Visibility' , 'Item_Visibility_Log'] , axis = 1 , inplace=True)\n",
    "test.drop(['Item_Type' , 'Outlet_Establishment_Year' , 'Item_Visibility' , 'Item_Visibility_Log'] , axis = 1 , inplace=True)"
   ]
  },
  {
   "cell_type": "code",
   "execution_count": 437,
   "metadata": {},
   "outputs": [
    {
     "data": {
      "text/html": [
       "<div>\n",
       "<style scoped>\n",
       "    .dataframe tbody tr th:only-of-type {\n",
       "        vertical-align: middle;\n",
       "    }\n",
       "\n",
       "    .dataframe tbody tr th {\n",
       "        vertical-align: top;\n",
       "    }\n",
       "\n",
       "    .dataframe thead th {\n",
       "        text-align: right;\n",
       "    }\n",
       "</style>\n",
       "<table border=\"1\" class=\"dataframe\">\n",
       "  <thead>\n",
       "    <tr style=\"text-align: right;\">\n",
       "      <th></th>\n",
       "      <th>Item_Identifier</th>\n",
       "      <th>Item_Weight</th>\n",
       "      <th>Item_MRP</th>\n",
       "      <th>Outlet_Identifier</th>\n",
       "      <th>Item_Outlet_Sales</th>\n",
       "      <th>Item_Outlet_Sales_log</th>\n",
       "      <th>Item_Visibility_BoxCox</th>\n",
       "      <th>Item_Weight_div_Item_Visibility</th>\n",
       "      <th>Item_MRP_div_Item_Weight</th>\n",
       "      <th>Vis_div_Weight_dev_MRP</th>\n",
       "      <th>...</th>\n",
       "      <th>Outlet_Location_Type_Tier 1</th>\n",
       "      <th>Outlet_Location_Type_Tier 2</th>\n",
       "      <th>Outlet_Location_Type_Tier 3</th>\n",
       "      <th>Outlet_Type_Grocery Store</th>\n",
       "      <th>Outlet_Type_Supermarket Type1</th>\n",
       "      <th>Outlet_Type_Supermarket Type2</th>\n",
       "      <th>Outlet_Type_Supermarket Type3</th>\n",
       "      <th>Item_Type_Reduced_DR</th>\n",
       "      <th>Item_Type_Reduced_FD</th>\n",
       "      <th>Item_Type_Reduced_NC</th>\n",
       "    </tr>\n",
       "  </thead>\n",
       "  <tbody>\n",
       "    <tr>\n",
       "      <th>0</th>\n",
       "      <td>FDA15</td>\n",
       "      <td>9.30</td>\n",
       "      <td>0.927507</td>\n",
       "      <td>OUT049</td>\n",
       "      <td>3735.1380</td>\n",
       "      <td>8.225540</td>\n",
       "      <td>-2.707315</td>\n",
       "      <td>0.147812</td>\n",
       "      <td>0.512840</td>\n",
       "      <td>0.431050</td>\n",
       "      <td>...</td>\n",
       "      <td>1</td>\n",
       "      <td>0</td>\n",
       "      <td>0</td>\n",
       "      <td>0</td>\n",
       "      <td>1</td>\n",
       "      <td>0</td>\n",
       "      <td>0</td>\n",
       "      <td>0</td>\n",
       "      <td>1</td>\n",
       "      <td>0</td>\n",
       "    </tr>\n",
       "    <tr>\n",
       "      <th>1</th>\n",
       "      <td>DRC01</td>\n",
       "      <td>5.92</td>\n",
       "      <td>0.072068</td>\n",
       "      <td>OUT018</td>\n",
       "      <td>443.4228</td>\n",
       "      <td>6.094524</td>\n",
       "      <td>-2.632334</td>\n",
       "      <td>0.075601</td>\n",
       "      <td>0.131750</td>\n",
       "      <td>0.157186</td>\n",
       "      <td>...</td>\n",
       "      <td>0</td>\n",
       "      <td>0</td>\n",
       "      <td>1</td>\n",
       "      <td>0</td>\n",
       "      <td>0</td>\n",
       "      <td>1</td>\n",
       "      <td>0</td>\n",
       "      <td>1</td>\n",
       "      <td>0</td>\n",
       "      <td>0</td>\n",
       "    </tr>\n",
       "    <tr>\n",
       "      <th>2</th>\n",
       "      <td>FDN15</td>\n",
       "      <td>17.50</td>\n",
       "      <td>0.468288</td>\n",
       "      <td>OUT049</td>\n",
       "      <td>2097.2700</td>\n",
       "      <td>7.648392</td>\n",
       "      <td>-2.689825</td>\n",
       "      <td>0.270954</td>\n",
       "      <td>0.130505</td>\n",
       "      <td>0.135630</td>\n",
       "      <td>...</td>\n",
       "      <td>1</td>\n",
       "      <td>0</td>\n",
       "      <td>0</td>\n",
       "      <td>0</td>\n",
       "      <td>1</td>\n",
       "      <td>0</td>\n",
       "      <td>0</td>\n",
       "      <td>0</td>\n",
       "      <td>1</td>\n",
       "      <td>0</td>\n",
       "    </tr>\n",
       "    <tr>\n",
       "      <th>3</th>\n",
       "      <td>FDX07</td>\n",
       "      <td>19.20</td>\n",
       "      <td>0.640093</td>\n",
       "      <td>OUT010</td>\n",
       "      <td>732.3800</td>\n",
       "      <td>6.596300</td>\n",
       "      <td>-2.126802</td>\n",
       "      <td>0.084428</td>\n",
       "      <td>0.158854</td>\n",
       "      <td>0.534962</td>\n",
       "      <td>...</td>\n",
       "      <td>0</td>\n",
       "      <td>0</td>\n",
       "      <td>1</td>\n",
       "      <td>1</td>\n",
       "      <td>0</td>\n",
       "      <td>0</td>\n",
       "      <td>0</td>\n",
       "      <td>0</td>\n",
       "      <td>1</td>\n",
       "      <td>0</td>\n",
       "    </tr>\n",
       "    <tr>\n",
       "      <th>4</th>\n",
       "      <td>NCD19</td>\n",
       "      <td>8.93</td>\n",
       "      <td>0.095805</td>\n",
       "      <td>OUT013</td>\n",
       "      <td>994.7052</td>\n",
       "      <td>6.902446</td>\n",
       "      <td>-2.243391</td>\n",
       "      <td>0.046808</td>\n",
       "      <td>0.088522</td>\n",
       "      <td>0.271415</td>\n",
       "      <td>...</td>\n",
       "      <td>0</td>\n",
       "      <td>0</td>\n",
       "      <td>1</td>\n",
       "      <td>0</td>\n",
       "      <td>1</td>\n",
       "      <td>0</td>\n",
       "      <td>0</td>\n",
       "      <td>0</td>\n",
       "      <td>0</td>\n",
       "      <td>1</td>\n",
       "    </tr>\n",
       "  </tbody>\n",
       "</table>\n",
       "<p>5 rows × 27 columns</p>\n",
       "</div>"
      ],
      "text/plain": [
       "  Item_Identifier  Item_Weight  Item_MRP Outlet_Identifier  Item_Outlet_Sales  \\\n",
       "0           FDA15         9.30  0.927507            OUT049          3735.1380   \n",
       "1           DRC01         5.92  0.072068            OUT018           443.4228   \n",
       "2           FDN15        17.50  0.468288            OUT049          2097.2700   \n",
       "3           FDX07        19.20  0.640093            OUT010           732.3800   \n",
       "4           NCD19         8.93  0.095805            OUT013           994.7052   \n",
       "\n",
       "   Item_Outlet_Sales_log  Item_Visibility_BoxCox  \\\n",
       "0               8.225540               -2.707315   \n",
       "1               6.094524               -2.632334   \n",
       "2               7.648392               -2.689825   \n",
       "3               6.596300               -2.126802   \n",
       "4               6.902446               -2.243391   \n",
       "\n",
       "   Item_Weight_div_Item_Visibility  Item_MRP_div_Item_Weight  \\\n",
       "0                         0.147812                  0.512840   \n",
       "1                         0.075601                  0.131750   \n",
       "2                         0.270954                  0.130505   \n",
       "3                         0.084428                  0.158854   \n",
       "4                         0.046808                  0.088522   \n",
       "\n",
       "   Vis_div_Weight_dev_MRP  ...  Outlet_Location_Type_Tier 1  \\\n",
       "0                0.431050  ...                            1   \n",
       "1                0.157186  ...                            0   \n",
       "2                0.135630  ...                            1   \n",
       "3                0.534962  ...                            0   \n",
       "4                0.271415  ...                            0   \n",
       "\n",
       "   Outlet_Location_Type_Tier 2  Outlet_Location_Type_Tier 3  \\\n",
       "0                            0                            0   \n",
       "1                            0                            1   \n",
       "2                            0                            0   \n",
       "3                            0                            1   \n",
       "4                            0                            1   \n",
       "\n",
       "   Outlet_Type_Grocery Store  Outlet_Type_Supermarket Type1  \\\n",
       "0                          0                              1   \n",
       "1                          0                              0   \n",
       "2                          0                              1   \n",
       "3                          1                              0   \n",
       "4                          0                              1   \n",
       "\n",
       "   Outlet_Type_Supermarket Type2  Outlet_Type_Supermarket Type3  \\\n",
       "0                              0                              0   \n",
       "1                              1                              0   \n",
       "2                              0                              0   \n",
       "3                              0                              0   \n",
       "4                              0                              0   \n",
       "\n",
       "   Item_Type_Reduced_DR  Item_Type_Reduced_FD  Item_Type_Reduced_NC  \n",
       "0                     0                     1                     0  \n",
       "1                     1                     0                     0  \n",
       "2                     0                     1                     0  \n",
       "3                     0                     1                     0  \n",
       "4                     0                     0                     1  \n",
       "\n",
       "[5 rows x 27 columns]"
      ]
     },
     "execution_count": 437,
     "metadata": {},
     "output_type": "execute_result"
    }
   ],
   "source": [
    "train.head()"
   ]
  },
  {
   "cell_type": "code",
   "execution_count": 438,
   "metadata": {},
   "outputs": [
    {
     "data": {
      "text/html": [
       "<div>\n",
       "<style scoped>\n",
       "    .dataframe tbody tr th:only-of-type {\n",
       "        vertical-align: middle;\n",
       "    }\n",
       "\n",
       "    .dataframe tbody tr th {\n",
       "        vertical-align: top;\n",
       "    }\n",
       "\n",
       "    .dataframe thead th {\n",
       "        text-align: right;\n",
       "    }\n",
       "</style>\n",
       "<table border=\"1\" class=\"dataframe\">\n",
       "  <thead>\n",
       "    <tr style=\"text-align: right;\">\n",
       "      <th></th>\n",
       "      <th>Item_Identifier</th>\n",
       "      <th>Item_Weight</th>\n",
       "      <th>Item_MRP</th>\n",
       "      <th>Outlet_Identifier</th>\n",
       "      <th>Item_Visibility_BoxCox</th>\n",
       "      <th>Item_Weight_div_Item_Visibility</th>\n",
       "      <th>Item_MRP_div_Item_Weight</th>\n",
       "      <th>Vis_div_Weight_dev_MRP</th>\n",
       "      <th>Years_Old</th>\n",
       "      <th>Item_Fat_Content_Low Fat</th>\n",
       "      <th>...</th>\n",
       "      <th>Outlet_Location_Type_Tier 1</th>\n",
       "      <th>Outlet_Location_Type_Tier 2</th>\n",
       "      <th>Outlet_Location_Type_Tier 3</th>\n",
       "      <th>Outlet_Type_Grocery Store</th>\n",
       "      <th>Outlet_Type_Supermarket Type1</th>\n",
       "      <th>Outlet_Type_Supermarket Type2</th>\n",
       "      <th>Outlet_Type_Supermarket Type3</th>\n",
       "      <th>Item_Type_Reduced_DR</th>\n",
       "      <th>Item_Type_Reduced_FD</th>\n",
       "      <th>Item_Type_Reduced_NC</th>\n",
       "    </tr>\n",
       "  </thead>\n",
       "  <tbody>\n",
       "    <tr>\n",
       "      <th>0</th>\n",
       "      <td>FDW58</td>\n",
       "      <td>20.750000</td>\n",
       "      <td>0.323413</td>\n",
       "      <td>OUT049</td>\n",
       "      <td>-2.976879</td>\n",
       "      <td>0.724955</td>\n",
       "      <td>0.072034</td>\n",
       "      <td>0.039323</td>\n",
       "      <td>14</td>\n",
       "      <td>1</td>\n",
       "      <td>...</td>\n",
       "      <td>1</td>\n",
       "      <td>0</td>\n",
       "      <td>0</td>\n",
       "      <td>0</td>\n",
       "      <td>1</td>\n",
       "      <td>0</td>\n",
       "      <td>0</td>\n",
       "      <td>0</td>\n",
       "      <td>1</td>\n",
       "      <td>0</td>\n",
       "    </tr>\n",
       "    <tr>\n",
       "      <th>1</th>\n",
       "      <td>FDW14</td>\n",
       "      <td>8.300000</td>\n",
       "      <td>0.235849</td>\n",
       "      <td>OUT017</td>\n",
       "      <td>-2.317081</td>\n",
       "      <td>0.052354</td>\n",
       "      <td>0.180551</td>\n",
       "      <td>0.404277</td>\n",
       "      <td>6</td>\n",
       "      <td>0</td>\n",
       "      <td>...</td>\n",
       "      <td>0</td>\n",
       "      <td>1</td>\n",
       "      <td>0</td>\n",
       "      <td>0</td>\n",
       "      <td>1</td>\n",
       "      <td>0</td>\n",
       "      <td>0</td>\n",
       "      <td>0</td>\n",
       "      <td>1</td>\n",
       "      <td>0</td>\n",
       "    </tr>\n",
       "    <tr>\n",
       "      <th>2</th>\n",
       "      <td>NCN55</td>\n",
       "      <td>14.600000</td>\n",
       "      <td>0.894140</td>\n",
       "      <td>OUT010</td>\n",
       "      <td>-1.803870</td>\n",
       "      <td>0.033890</td>\n",
       "      <td>0.303662</td>\n",
       "      <td>1.648809</td>\n",
       "      <td>15</td>\n",
       "      <td>0</td>\n",
       "      <td>...</td>\n",
       "      <td>0</td>\n",
       "      <td>0</td>\n",
       "      <td>1</td>\n",
       "      <td>1</td>\n",
       "      <td>0</td>\n",
       "      <td>0</td>\n",
       "      <td>0</td>\n",
       "      <td>0</td>\n",
       "      <td>0</td>\n",
       "      <td>1</td>\n",
       "    </tr>\n",
       "    <tr>\n",
       "      <th>3</th>\n",
       "      <td>FDQ58</td>\n",
       "      <td>7.315000</td>\n",
       "      <td>0.524488</td>\n",
       "      <td>OUT017</td>\n",
       "      <td>-2.717685</td>\n",
       "      <td>0.121390</td>\n",
       "      <td>0.398176</td>\n",
       "      <td>0.326141</td>\n",
       "      <td>6</td>\n",
       "      <td>1</td>\n",
       "      <td>...</td>\n",
       "      <td>0</td>\n",
       "      <td>1</td>\n",
       "      <td>0</td>\n",
       "      <td>0</td>\n",
       "      <td>1</td>\n",
       "      <td>0</td>\n",
       "      <td>0</td>\n",
       "      <td>0</td>\n",
       "      <td>1</td>\n",
       "      <td>0</td>\n",
       "    </tr>\n",
       "    <tr>\n",
       "      <th>4</th>\n",
       "      <td>FDY38</td>\n",
       "      <td>12.591234</td>\n",
       "      <td>0.862069</td>\n",
       "      <td>OUT027</td>\n",
       "      <td>-1.697219</td>\n",
       "      <td>0.023122</td>\n",
       "      <td>0.345340</td>\n",
       "      <td>2.206258</td>\n",
       "      <td>28</td>\n",
       "      <td>0</td>\n",
       "      <td>...</td>\n",
       "      <td>0</td>\n",
       "      <td>0</td>\n",
       "      <td>1</td>\n",
       "      <td>0</td>\n",
       "      <td>0</td>\n",
       "      <td>0</td>\n",
       "      <td>1</td>\n",
       "      <td>0</td>\n",
       "      <td>1</td>\n",
       "      <td>0</td>\n",
       "    </tr>\n",
       "  </tbody>\n",
       "</table>\n",
       "<p>5 rows × 25 columns</p>\n",
       "</div>"
      ],
      "text/plain": [
       "  Item_Identifier  Item_Weight  Item_MRP Outlet_Identifier  \\\n",
       "0           FDW58    20.750000  0.323413            OUT049   \n",
       "1           FDW14     8.300000  0.235849            OUT017   \n",
       "2           NCN55    14.600000  0.894140            OUT010   \n",
       "3           FDQ58     7.315000  0.524488            OUT017   \n",
       "4           FDY38    12.591234  0.862069            OUT027   \n",
       "\n",
       "   Item_Visibility_BoxCox  Item_Weight_div_Item_Visibility  \\\n",
       "0               -2.976879                         0.724955   \n",
       "1               -2.317081                         0.052354   \n",
       "2               -1.803870                         0.033890   \n",
       "3               -2.717685                         0.121390   \n",
       "4               -1.697219                         0.023122   \n",
       "\n",
       "   Item_MRP_div_Item_Weight  Vis_div_Weight_dev_MRP  Years_Old  \\\n",
       "0                  0.072034                0.039323         14   \n",
       "1                  0.180551                0.404277          6   \n",
       "2                  0.303662                1.648809         15   \n",
       "3                  0.398176                0.326141          6   \n",
       "4                  0.345340                2.206258         28   \n",
       "\n",
       "   Item_Fat_Content_Low Fat  ...  Outlet_Location_Type_Tier 1  \\\n",
       "0                         1  ...                            1   \n",
       "1                         0  ...                            0   \n",
       "2                         0  ...                            0   \n",
       "3                         1  ...                            0   \n",
       "4                         0  ...                            0   \n",
       "\n",
       "   Outlet_Location_Type_Tier 2  Outlet_Location_Type_Tier 3  \\\n",
       "0                            0                            0   \n",
       "1                            1                            0   \n",
       "2                            0                            1   \n",
       "3                            1                            0   \n",
       "4                            0                            1   \n",
       "\n",
       "   Outlet_Type_Grocery Store  Outlet_Type_Supermarket Type1  \\\n",
       "0                          0                              1   \n",
       "1                          0                              1   \n",
       "2                          1                              0   \n",
       "3                          0                              1   \n",
       "4                          0                              0   \n",
       "\n",
       "   Outlet_Type_Supermarket Type2  Outlet_Type_Supermarket Type3  \\\n",
       "0                              0                              0   \n",
       "1                              0                              0   \n",
       "2                              0                              0   \n",
       "3                              0                              0   \n",
       "4                              0                              1   \n",
       "\n",
       "   Item_Type_Reduced_DR  Item_Type_Reduced_FD  Item_Type_Reduced_NC  \n",
       "0                     0                     1                     0  \n",
       "1                     0                     1                     0  \n",
       "2                     0                     0                     1  \n",
       "3                     0                     1                     0  \n",
       "4                     0                     1                     0  \n",
       "\n",
       "[5 rows x 25 columns]"
      ]
     },
     "execution_count": 438,
     "metadata": {},
     "output_type": "execute_result"
    }
   ],
   "source": [
    "test.head()"
   ]
  },
  {
   "cell_type": "code",
   "execution_count": 439,
   "metadata": {},
   "outputs": [],
   "source": [
    "df_train = train.copy()\n",
    "df_test = test.copy()\n",
    "df_train.drop(['Item_Outlet_Sales'] , axis = 1 , inplace=True)\n",
    "#df_test.drop(['Item_Type' , 'Outlet_Establishment_Year'] , axis = 1 , inplace=True)"
   ]
  },
  {
   "cell_type": "code",
   "execution_count": 440,
   "metadata": {},
   "outputs": [
    {
     "data": {
      "text/html": [
       "<div>\n",
       "<style scoped>\n",
       "    .dataframe tbody tr th:only-of-type {\n",
       "        vertical-align: middle;\n",
       "    }\n",
       "\n",
       "    .dataframe tbody tr th {\n",
       "        vertical-align: top;\n",
       "    }\n",
       "\n",
       "    .dataframe thead th {\n",
       "        text-align: right;\n",
       "    }\n",
       "</style>\n",
       "<table border=\"1\" class=\"dataframe\">\n",
       "  <thead>\n",
       "    <tr style=\"text-align: right;\">\n",
       "      <th></th>\n",
       "      <th>Item_Identifier</th>\n",
       "      <th>Item_Weight</th>\n",
       "      <th>Item_MRP</th>\n",
       "      <th>Outlet_Identifier</th>\n",
       "      <th>Item_Outlet_Sales_log</th>\n",
       "      <th>Item_Visibility_BoxCox</th>\n",
       "      <th>Item_Weight_div_Item_Visibility</th>\n",
       "      <th>Item_MRP_div_Item_Weight</th>\n",
       "      <th>Vis_div_Weight_dev_MRP</th>\n",
       "      <th>Years_Old</th>\n",
       "      <th>...</th>\n",
       "      <th>Outlet_Location_Type_Tier 1</th>\n",
       "      <th>Outlet_Location_Type_Tier 2</th>\n",
       "      <th>Outlet_Location_Type_Tier 3</th>\n",
       "      <th>Outlet_Type_Grocery Store</th>\n",
       "      <th>Outlet_Type_Supermarket Type1</th>\n",
       "      <th>Outlet_Type_Supermarket Type2</th>\n",
       "      <th>Outlet_Type_Supermarket Type3</th>\n",
       "      <th>Item_Type_Reduced_DR</th>\n",
       "      <th>Item_Type_Reduced_FD</th>\n",
       "      <th>Item_Type_Reduced_NC</th>\n",
       "    </tr>\n",
       "  </thead>\n",
       "  <tbody>\n",
       "    <tr>\n",
       "      <th>0</th>\n",
       "      <td>FDA15</td>\n",
       "      <td>0.282525</td>\n",
       "      <td>0.927507</td>\n",
       "      <td>OUT049</td>\n",
       "      <td>8.225540</td>\n",
       "      <td>-2.707315</td>\n",
       "      <td>0.147812</td>\n",
       "      <td>0.512840</td>\n",
       "      <td>0.431050</td>\n",
       "      <td>0.416667</td>\n",
       "      <td>...</td>\n",
       "      <td>1</td>\n",
       "      <td>0</td>\n",
       "      <td>0</td>\n",
       "      <td>0</td>\n",
       "      <td>1</td>\n",
       "      <td>0</td>\n",
       "      <td>0</td>\n",
       "      <td>0</td>\n",
       "      <td>1</td>\n",
       "      <td>0</td>\n",
       "    </tr>\n",
       "    <tr>\n",
       "      <th>1</th>\n",
       "      <td>DRC01</td>\n",
       "      <td>0.081274</td>\n",
       "      <td>0.072068</td>\n",
       "      <td>OUT018</td>\n",
       "      <td>6.094524</td>\n",
       "      <td>-2.632334</td>\n",
       "      <td>0.075601</td>\n",
       "      <td>0.131750</td>\n",
       "      <td>0.157186</td>\n",
       "      <td>0.000000</td>\n",
       "      <td>...</td>\n",
       "      <td>0</td>\n",
       "      <td>0</td>\n",
       "      <td>1</td>\n",
       "      <td>0</td>\n",
       "      <td>0</td>\n",
       "      <td>1</td>\n",
       "      <td>0</td>\n",
       "      <td>1</td>\n",
       "      <td>0</td>\n",
       "      <td>0</td>\n",
       "    </tr>\n",
       "    <tr>\n",
       "      <th>2</th>\n",
       "      <td>FDN15</td>\n",
       "      <td>0.770765</td>\n",
       "      <td>0.468288</td>\n",
       "      <td>OUT049</td>\n",
       "      <td>7.648392</td>\n",
       "      <td>-2.689825</td>\n",
       "      <td>0.270954</td>\n",
       "      <td>0.130505</td>\n",
       "      <td>0.135630</td>\n",
       "      <td>0.416667</td>\n",
       "      <td>...</td>\n",
       "      <td>1</td>\n",
       "      <td>0</td>\n",
       "      <td>0</td>\n",
       "      <td>0</td>\n",
       "      <td>1</td>\n",
       "      <td>0</td>\n",
       "      <td>0</td>\n",
       "      <td>0</td>\n",
       "      <td>1</td>\n",
       "      <td>0</td>\n",
       "    </tr>\n",
       "    <tr>\n",
       "      <th>3</th>\n",
       "      <td>FDX07</td>\n",
       "      <td>0.871986</td>\n",
       "      <td>0.640093</td>\n",
       "      <td>OUT010</td>\n",
       "      <td>6.596300</td>\n",
       "      <td>-2.126802</td>\n",
       "      <td>0.084428</td>\n",
       "      <td>0.158854</td>\n",
       "      <td>0.534962</td>\n",
       "      <td>0.458333</td>\n",
       "      <td>...</td>\n",
       "      <td>0</td>\n",
       "      <td>0</td>\n",
       "      <td>1</td>\n",
       "      <td>1</td>\n",
       "      <td>0</td>\n",
       "      <td>0</td>\n",
       "      <td>0</td>\n",
       "      <td>0</td>\n",
       "      <td>1</td>\n",
       "      <td>0</td>\n",
       "    </tr>\n",
       "    <tr>\n",
       "      <th>4</th>\n",
       "      <td>NCD19</td>\n",
       "      <td>0.260494</td>\n",
       "      <td>0.095805</td>\n",
       "      <td>OUT013</td>\n",
       "      <td>6.902446</td>\n",
       "      <td>-2.243391</td>\n",
       "      <td>0.046808</td>\n",
       "      <td>0.088522</td>\n",
       "      <td>0.271415</td>\n",
       "      <td>0.916667</td>\n",
       "      <td>...</td>\n",
       "      <td>0</td>\n",
       "      <td>0</td>\n",
       "      <td>1</td>\n",
       "      <td>0</td>\n",
       "      <td>1</td>\n",
       "      <td>0</td>\n",
       "      <td>0</td>\n",
       "      <td>0</td>\n",
       "      <td>0</td>\n",
       "      <td>1</td>\n",
       "    </tr>\n",
       "  </tbody>\n",
       "</table>\n",
       "<p>5 rows × 26 columns</p>\n",
       "</div>"
      ],
      "text/plain": [
       "  Item_Identifier  Item_Weight  Item_MRP Outlet_Identifier  \\\n",
       "0           FDA15     0.282525  0.927507            OUT049   \n",
       "1           DRC01     0.081274  0.072068            OUT018   \n",
       "2           FDN15     0.770765  0.468288            OUT049   \n",
       "3           FDX07     0.871986  0.640093            OUT010   \n",
       "4           NCD19     0.260494  0.095805            OUT013   \n",
       "\n",
       "   Item_Outlet_Sales_log  Item_Visibility_BoxCox  \\\n",
       "0               8.225540               -2.707315   \n",
       "1               6.094524               -2.632334   \n",
       "2               7.648392               -2.689825   \n",
       "3               6.596300               -2.126802   \n",
       "4               6.902446               -2.243391   \n",
       "\n",
       "   Item_Weight_div_Item_Visibility  Item_MRP_div_Item_Weight  \\\n",
       "0                         0.147812                  0.512840   \n",
       "1                         0.075601                  0.131750   \n",
       "2                         0.270954                  0.130505   \n",
       "3                         0.084428                  0.158854   \n",
       "4                         0.046808                  0.088522   \n",
       "\n",
       "   Vis_div_Weight_dev_MRP  Years_Old  ...  Outlet_Location_Type_Tier 1  \\\n",
       "0                0.431050   0.416667  ...                            1   \n",
       "1                0.157186   0.000000  ...                            0   \n",
       "2                0.135630   0.416667  ...                            1   \n",
       "3                0.534962   0.458333  ...                            0   \n",
       "4                0.271415   0.916667  ...                            0   \n",
       "\n",
       "   Outlet_Location_Type_Tier 2  Outlet_Location_Type_Tier 3  \\\n",
       "0                            0                            0   \n",
       "1                            0                            1   \n",
       "2                            0                            0   \n",
       "3                            0                            1   \n",
       "4                            0                            1   \n",
       "\n",
       "   Outlet_Type_Grocery Store  Outlet_Type_Supermarket Type1  \\\n",
       "0                          0                              1   \n",
       "1                          0                              0   \n",
       "2                          0                              1   \n",
       "3                          1                              0   \n",
       "4                          0                              1   \n",
       "\n",
       "   Outlet_Type_Supermarket Type2  Outlet_Type_Supermarket Type3  \\\n",
       "0                              0                              0   \n",
       "1                              1                              0   \n",
       "2                              0                              0   \n",
       "3                              0                              0   \n",
       "4                              0                              0   \n",
       "\n",
       "   Item_Type_Reduced_DR  Item_Type_Reduced_FD  Item_Type_Reduced_NC  \n",
       "0                     0                     1                     0  \n",
       "1                     1                     0                     0  \n",
       "2                     0                     1                     0  \n",
       "3                     0                     1                     0  \n",
       "4                     0                     0                     1  \n",
       "\n",
       "[5 rows x 26 columns]"
      ]
     },
     "execution_count": 440,
     "metadata": {},
     "output_type": "execute_result"
    }
   ],
   "source": [
    "from sklearn.preprocessing import MinMaxScaler\n",
    "scaler = MinMaxScaler()\n",
    "scaler.fit(df_train[['Item_Weight' , 'Years_Old']])\n",
    "df_train[['Item_Weight' , 'Years_Old']] = scaler.transform(df_train[['Item_Weight' , 'Years_Old']])\n",
    "df_train.head()"
   ]
  },
  {
   "cell_type": "code",
   "execution_count": 441,
   "metadata": {},
   "outputs": [
    {
     "data": {
      "text/html": [
       "<div>\n",
       "<style scoped>\n",
       "    .dataframe tbody tr th:only-of-type {\n",
       "        vertical-align: middle;\n",
       "    }\n",
       "\n",
       "    .dataframe tbody tr th {\n",
       "        vertical-align: top;\n",
       "    }\n",
       "\n",
       "    .dataframe thead th {\n",
       "        text-align: right;\n",
       "    }\n",
       "</style>\n",
       "<table border=\"1\" class=\"dataframe\">\n",
       "  <thead>\n",
       "    <tr style=\"text-align: right;\">\n",
       "      <th></th>\n",
       "      <th>Item_Identifier</th>\n",
       "      <th>Item_Weight</th>\n",
       "      <th>Item_MRP</th>\n",
       "      <th>Outlet_Identifier</th>\n",
       "      <th>Item_Visibility_BoxCox</th>\n",
       "      <th>Item_Weight_div_Item_Visibility</th>\n",
       "      <th>Item_MRP_div_Item_Weight</th>\n",
       "      <th>Vis_div_Weight_dev_MRP</th>\n",
       "      <th>Years_Old</th>\n",
       "      <th>Item_Fat_Content_Low Fat</th>\n",
       "      <th>...</th>\n",
       "      <th>Outlet_Location_Type_Tier 1</th>\n",
       "      <th>Outlet_Location_Type_Tier 2</th>\n",
       "      <th>Outlet_Location_Type_Tier 3</th>\n",
       "      <th>Outlet_Type_Grocery Store</th>\n",
       "      <th>Outlet_Type_Supermarket Type1</th>\n",
       "      <th>Outlet_Type_Supermarket Type2</th>\n",
       "      <th>Outlet_Type_Supermarket Type3</th>\n",
       "      <th>Item_Type_Reduced_DR</th>\n",
       "      <th>Item_Type_Reduced_FD</th>\n",
       "      <th>Item_Type_Reduced_NC</th>\n",
       "    </tr>\n",
       "  </thead>\n",
       "  <tbody>\n",
       "    <tr>\n",
       "      <th>0</th>\n",
       "      <td>FDW58</td>\n",
       "      <td>0.964275</td>\n",
       "      <td>0.323413</td>\n",
       "      <td>OUT049</td>\n",
       "      <td>-2.976879</td>\n",
       "      <td>0.724955</td>\n",
       "      <td>0.072034</td>\n",
       "      <td>0.039323</td>\n",
       "      <td>0.416667</td>\n",
       "      <td>1</td>\n",
       "      <td>...</td>\n",
       "      <td>1</td>\n",
       "      <td>0</td>\n",
       "      <td>0</td>\n",
       "      <td>0</td>\n",
       "      <td>1</td>\n",
       "      <td>0</td>\n",
       "      <td>0</td>\n",
       "      <td>0</td>\n",
       "      <td>1</td>\n",
       "      <td>0</td>\n",
       "    </tr>\n",
       "    <tr>\n",
       "      <th>1</th>\n",
       "      <td>FDW14</td>\n",
       "      <td>0.222983</td>\n",
       "      <td>0.235849</td>\n",
       "      <td>OUT017</td>\n",
       "      <td>-2.317081</td>\n",
       "      <td>0.052354</td>\n",
       "      <td>0.180551</td>\n",
       "      <td>0.404277</td>\n",
       "      <td>0.083333</td>\n",
       "      <td>0</td>\n",
       "      <td>...</td>\n",
       "      <td>0</td>\n",
       "      <td>1</td>\n",
       "      <td>0</td>\n",
       "      <td>0</td>\n",
       "      <td>1</td>\n",
       "      <td>0</td>\n",
       "      <td>0</td>\n",
       "      <td>0</td>\n",
       "      <td>1</td>\n",
       "      <td>0</td>\n",
       "    </tr>\n",
       "    <tr>\n",
       "      <th>2</th>\n",
       "      <td>NCN55</td>\n",
       "      <td>0.598095</td>\n",
       "      <td>0.894140</td>\n",
       "      <td>OUT010</td>\n",
       "      <td>-1.803870</td>\n",
       "      <td>0.033890</td>\n",
       "      <td>0.303662</td>\n",
       "      <td>1.648809</td>\n",
       "      <td>0.458333</td>\n",
       "      <td>0</td>\n",
       "      <td>...</td>\n",
       "      <td>0</td>\n",
       "      <td>0</td>\n",
       "      <td>1</td>\n",
       "      <td>1</td>\n",
       "      <td>0</td>\n",
       "      <td>0</td>\n",
       "      <td>0</td>\n",
       "      <td>0</td>\n",
       "      <td>0</td>\n",
       "      <td>1</td>\n",
       "    </tr>\n",
       "    <tr>\n",
       "      <th>3</th>\n",
       "      <td>FDQ58</td>\n",
       "      <td>0.164335</td>\n",
       "      <td>0.524488</td>\n",
       "      <td>OUT017</td>\n",
       "      <td>-2.717685</td>\n",
       "      <td>0.121390</td>\n",
       "      <td>0.398176</td>\n",
       "      <td>0.326141</td>\n",
       "      <td>0.083333</td>\n",
       "      <td>1</td>\n",
       "      <td>...</td>\n",
       "      <td>0</td>\n",
       "      <td>1</td>\n",
       "      <td>0</td>\n",
       "      <td>0</td>\n",
       "      <td>1</td>\n",
       "      <td>0</td>\n",
       "      <td>0</td>\n",
       "      <td>0</td>\n",
       "      <td>1</td>\n",
       "      <td>0</td>\n",
       "    </tr>\n",
       "    <tr>\n",
       "      <th>4</th>\n",
       "      <td>FDY38</td>\n",
       "      <td>0.478490</td>\n",
       "      <td>0.862069</td>\n",
       "      <td>OUT027</td>\n",
       "      <td>-1.697219</td>\n",
       "      <td>0.023122</td>\n",
       "      <td>0.345340</td>\n",
       "      <td>2.206258</td>\n",
       "      <td>1.000000</td>\n",
       "      <td>0</td>\n",
       "      <td>...</td>\n",
       "      <td>0</td>\n",
       "      <td>0</td>\n",
       "      <td>1</td>\n",
       "      <td>0</td>\n",
       "      <td>0</td>\n",
       "      <td>0</td>\n",
       "      <td>1</td>\n",
       "      <td>0</td>\n",
       "      <td>1</td>\n",
       "      <td>0</td>\n",
       "    </tr>\n",
       "  </tbody>\n",
       "</table>\n",
       "<p>5 rows × 25 columns</p>\n",
       "</div>"
      ],
      "text/plain": [
       "  Item_Identifier  Item_Weight  Item_MRP Outlet_Identifier  \\\n",
       "0           FDW58     0.964275  0.323413            OUT049   \n",
       "1           FDW14     0.222983  0.235849            OUT017   \n",
       "2           NCN55     0.598095  0.894140            OUT010   \n",
       "3           FDQ58     0.164335  0.524488            OUT017   \n",
       "4           FDY38     0.478490  0.862069            OUT027   \n",
       "\n",
       "   Item_Visibility_BoxCox  Item_Weight_div_Item_Visibility  \\\n",
       "0               -2.976879                         0.724955   \n",
       "1               -2.317081                         0.052354   \n",
       "2               -1.803870                         0.033890   \n",
       "3               -2.717685                         0.121390   \n",
       "4               -1.697219                         0.023122   \n",
       "\n",
       "   Item_MRP_div_Item_Weight  Vis_div_Weight_dev_MRP  Years_Old  \\\n",
       "0                  0.072034                0.039323   0.416667   \n",
       "1                  0.180551                0.404277   0.083333   \n",
       "2                  0.303662                1.648809   0.458333   \n",
       "3                  0.398176                0.326141   0.083333   \n",
       "4                  0.345340                2.206258   1.000000   \n",
       "\n",
       "   Item_Fat_Content_Low Fat  ...  Outlet_Location_Type_Tier 1  \\\n",
       "0                         1  ...                            1   \n",
       "1                         0  ...                            0   \n",
       "2                         0  ...                            0   \n",
       "3                         1  ...                            0   \n",
       "4                         0  ...                            0   \n",
       "\n",
       "   Outlet_Location_Type_Tier 2  Outlet_Location_Type_Tier 3  \\\n",
       "0                            0                            0   \n",
       "1                            1                            0   \n",
       "2                            0                            1   \n",
       "3                            1                            0   \n",
       "4                            0                            1   \n",
       "\n",
       "   Outlet_Type_Grocery Store  Outlet_Type_Supermarket Type1  \\\n",
       "0                          0                              1   \n",
       "1                          0                              1   \n",
       "2                          1                              0   \n",
       "3                          0                              1   \n",
       "4                          0                              0   \n",
       "\n",
       "   Outlet_Type_Supermarket Type2  Outlet_Type_Supermarket Type3  \\\n",
       "0                              0                              0   \n",
       "1                              0                              0   \n",
       "2                              0                              0   \n",
       "3                              0                              0   \n",
       "4                              0                              1   \n",
       "\n",
       "   Item_Type_Reduced_DR  Item_Type_Reduced_FD  Item_Type_Reduced_NC  \n",
       "0                     0                     1                     0  \n",
       "1                     0                     1                     0  \n",
       "2                     0                     0                     1  \n",
       "3                     0                     1                     0  \n",
       "4                     0                     1                     0  \n",
       "\n",
       "[5 rows x 25 columns]"
      ]
     },
     "execution_count": 441,
     "metadata": {},
     "output_type": "execute_result"
    }
   ],
   "source": [
    "from sklearn.preprocessing import MinMaxScaler\n",
    "scaler = MinMaxScaler()\n",
    "scaler.fit(df_test[['Item_Weight' , 'Years_Old']])\n",
    "df_test[['Item_Weight' , 'Years_Old']] = scaler.transform(df_test[['Item_Weight', 'Years_Old']])\n",
    "df_test.head()"
   ]
  },
  {
   "cell_type": "code",
   "execution_count": 442,
   "metadata": {},
   "outputs": [
    {
     "name": "stdout",
     "output_type": "stream",
     "text": [
      "<class 'pandas.core.frame.DataFrame'>\n",
      "RangeIndex: 8523 entries, 0 to 8522\n",
      "Data columns (total 26 columns):\n",
      " #   Column                           Non-Null Count  Dtype  \n",
      "---  ------                           --------------  -----  \n",
      " 0   Item_Identifier                  8523 non-null   object \n",
      " 1   Item_Weight                      8523 non-null   float64\n",
      " 2   Item_MRP                         8523 non-null   float64\n",
      " 3   Outlet_Identifier                8523 non-null   object \n",
      " 4   Item_Outlet_Sales_log            8523 non-null   float64\n",
      " 5   Item_Visibility_BoxCox           8523 non-null   float64\n",
      " 6   Item_Weight_div_Item_Visibility  8523 non-null   float64\n",
      " 7   Item_MRP_div_Item_Weight         8523 non-null   float64\n",
      " 8   Vis_div_Weight_dev_MRP           8523 non-null   float64\n",
      " 9   Years_Old                        8523 non-null   float64\n",
      " 10  Item_Fat_Content_Low Fat         8523 non-null   uint8  \n",
      " 11  Item_Fat_Content_Non Consumable  8523 non-null   uint8  \n",
      " 12  Item_Fat_Content_Regular         8523 non-null   uint8  \n",
      " 13  Outlet_Size_High                 8523 non-null   uint8  \n",
      " 14  Outlet_Size_Medium               8523 non-null   uint8  \n",
      " 15  Outlet_Size_Small                8523 non-null   uint8  \n",
      " 16  Outlet_Location_Type_Tier 1      8523 non-null   uint8  \n",
      " 17  Outlet_Location_Type_Tier 2      8523 non-null   uint8  \n",
      " 18  Outlet_Location_Type_Tier 3      8523 non-null   uint8  \n",
      " 19  Outlet_Type_Grocery Store        8523 non-null   uint8  \n",
      " 20  Outlet_Type_Supermarket Type1    8523 non-null   uint8  \n",
      " 21  Outlet_Type_Supermarket Type2    8523 non-null   uint8  \n",
      " 22  Outlet_Type_Supermarket Type3    8523 non-null   uint8  \n",
      " 23  Item_Type_Reduced_DR             8523 non-null   uint8  \n",
      " 24  Item_Type_Reduced_FD             8523 non-null   uint8  \n",
      " 25  Item_Type_Reduced_NC             8523 non-null   uint8  \n",
      "dtypes: float64(8), object(2), uint8(16)\n",
      "memory usage: 799.2+ KB\n"
     ]
    }
   ],
   "source": [
    "df_train.info()"
   ]
  },
  {
   "cell_type": "code",
   "execution_count": null,
   "metadata": {},
   "outputs": [],
   "source": []
  },
  {
   "cell_type": "code",
   "execution_count": 446,
   "metadata": {},
   "outputs": [],
   "source": [
    "### Define target and ID column\n",
    "target = 'Item_Outlet_Sales_log'\n",
    "Id_Cols = ['Item_Identifier' , 'Outlet_Identifier']\n",
    "\n",
    "from sklearn.model_selection import cross_validate\n",
    "from sklearn.model_selection import cross_val_score\n",
    "from sklearn.metrics import mean_squared_error\n",
    "\n",
    "def ModelFit(algo , dtrain , dtest , predictors , target , Id_Cols , filename):\n",
    "    ## Fit algorithm on data\n",
    "    algo.fit(dtrain[predictors] , dtrain[target])\n",
    "    \n",
    "    ## Predict training set\n",
    "    dtrain_predictions = algo.predict(dtrain[predictors])\n",
    "    \n",
    "    ## Perform cross validations\n",
    "    \n",
    "    cv_score = cross_val_score(algo , dtrain[predictors] , dtrain[target] , cv = 20 )\n",
    "    cv_score = np.sqrt(np.abs(cv_score))\n",
    "    \n",
    "    \n",
    "    ## Print Model Report\n",
    "    \n",
    "    print('\\n Model Report')\n",
    "    print('RMSE : %.4g' % np.sqrt(mean_squared_error(dtrain[target].values , dtrain_predictions)))\n",
    "    print('CV Score : Mean - %.4g | Std - %.4g | Min - %.4g | Max - %.4g' % (np.mean(cv_score) , np.std(cv_score) , np.min(cv_score), \n",
    "                                                                            np.max(cv_score)) )\n",
    "    \n",
    "    ## Predict on test data\n",
    "    dtest[target] = algo.predict(dtest[predictors])\n",
    "    \n",
    "    ## Export Submission\n",
    "    Id_Cols.append(target)\n",
    "    submission = pd.DataFrame({ x : dtest[x] for x in Id_Cols})\n",
    "    \n",
    "    submission.to_csv(filename , index = False)\n",
    "    \n",
    "    "
   ]
  },
  {
   "cell_type": "code",
   "execution_count": 448,
   "metadata": {},
   "outputs": [
    {
     "name": "stdout",
     "output_type": "stream",
     "text": [
      "\n",
      " Model Report\n",
      "RMSE : 0.5378\n",
      "CV Score : Mean - 0.8466 | Std - 0.01841 | Min - 0.8104 | Max - 0.8848\n"
     ]
    },
    {
     "data": {
      "image/png": "[encoded data removed]",
      "text/plain": [
       "<Figure size 432x288 with 1 Axes>"
      ]
     },
     "metadata": {
      "needs_background": "light"
     },
     "output_type": "display_data"
    }
   ],
   "source": [
    "from sklearn.linear_model import LinearRegression , Ridge , Lasso\n",
    "from sklearn.metrics import mean_squared_error\n",
    "#target = 'Item_Outlet_Sales_log'\n",
    "#Id_Cols = ['Item_Identifier' , 'Outlet_Identifier']\n",
    "filename = 'D:\\\\Ashish\\\\Projects\\\\Hackethon Problems\\\\BigMart_Regression_problem\\\\Algo1.csv'\n",
    "predictors = [x for x in df_train.columns if x not in [target]+Id_Cols]\n",
    "predictors\n",
    "#print prediction\n",
    "\n",
    "algo = LinearRegression(normalize=True)\n",
    "\n",
    "ModelFit(algo , df_train , df_test , predictors , target , Id_Cols , filename )\n",
    "\n",
    "coef1 = pd.Series(algo.coef_, predictors).sort_values()\n",
    "coef1.plot(kind='bar' , title = 'Model Coefficient')\n",
    "plt.show()"
   ]
  },
  {
   "cell_type": "code",
   "execution_count": 449,
   "metadata": {},
   "outputs": [
    {
     "data": {
      "text/html": [
       "<div>\n",
       "<style scoped>\n",
       "    .dataframe tbody tr th:only-of-type {\n",
       "        vertical-align: middle;\n",
       "    }\n",
       "\n",
       "    .dataframe tbody tr th {\n",
       "        vertical-align: top;\n",
       "    }\n",
       "\n",
       "    .dataframe thead th {\n",
       "        text-align: right;\n",
       "    }\n",
       "</style>\n",
       "<table border=\"1\" class=\"dataframe\">\n",
       "  <thead>\n",
       "    <tr style=\"text-align: right;\">\n",
       "      <th></th>\n",
       "      <th>Item_Identifier</th>\n",
       "      <th>Outlet_Identifier</th>\n",
       "      <th>Item_Outlet_Sales_log</th>\n",
       "    </tr>\n",
       "  </thead>\n",
       "  <tbody>\n",
       "    <tr>\n",
       "      <th>0</th>\n",
       "      <td>FDW58</td>\n",
       "      <td>OUT049</td>\n",
       "      <td>7.280257</td>\n",
       "    </tr>\n",
       "    <tr>\n",
       "      <th>1</th>\n",
       "      <td>FDW14</td>\n",
       "      <td>OUT017</td>\n",
       "      <td>7.111929</td>\n",
       "    </tr>\n",
       "    <tr>\n",
       "      <th>2</th>\n",
       "      <td>NCN55</td>\n",
       "      <td>OUT010</td>\n",
       "      <td>6.384600</td>\n",
       "    </tr>\n",
       "    <tr>\n",
       "      <th>3</th>\n",
       "      <td>FDQ58</td>\n",
       "      <td>OUT017</td>\n",
       "      <td>7.657712</td>\n",
       "    </tr>\n",
       "    <tr>\n",
       "      <th>4</th>\n",
       "      <td>FDY38</td>\n",
       "      <td>OUT027</td>\n",
       "      <td>8.820443</td>\n",
       "    </tr>\n",
       "  </tbody>\n",
       "</table>\n",
       "</div>"
      ],
      "text/plain": [
       "  Item_Identifier Outlet_Identifier  Item_Outlet_Sales_log\n",
       "0           FDW58            OUT049               7.280257\n",
       "1           FDW14            OUT017               7.111929\n",
       "2           NCN55            OUT010               6.384600\n",
       "3           FDQ58            OUT017               7.657712\n",
       "4           FDY38            OUT027               8.820443"
      ]
     },
     "execution_count": 449,
     "metadata": {},
     "output_type": "execute_result"
    }
   ],
   "source": [
    "sub = pd.read_csv('D:\\\\Ashish\\\\Projects\\\\Hackethon Problems\\\\BigMart_Regression_problem\\\\Algo1.csv')\n",
    "sub.head()"
   ]
  },
  {
   "cell_type": "code",
   "execution_count": 450,
   "metadata": {},
   "outputs": [
    {
     "data": {
      "text/html": [
       "<div>\n",
       "<style scoped>\n",
       "    .dataframe tbody tr th:only-of-type {\n",
       "        vertical-align: middle;\n",
       "    }\n",
       "\n",
       "    .dataframe tbody tr th {\n",
       "        vertical-align: top;\n",
       "    }\n",
       "\n",
       "    .dataframe thead th {\n",
       "        text-align: right;\n",
       "    }\n",
       "</style>\n",
       "<table border=\"1\" class=\"dataframe\">\n",
       "  <thead>\n",
       "    <tr style=\"text-align: right;\">\n",
       "      <th></th>\n",
       "      <th>Item_Identifier</th>\n",
       "      <th>Outlet_Identifier</th>\n",
       "      <th>Item_Outlet_Sales_log</th>\n",
       "    </tr>\n",
       "  </thead>\n",
       "  <tbody>\n",
       "    <tr>\n",
       "      <th>0</th>\n",
       "      <td>FDW58</td>\n",
       "      <td>OUT049</td>\n",
       "      <td>1451.360336</td>\n",
       "    </tr>\n",
       "    <tr>\n",
       "      <th>1</th>\n",
       "      <td>FDW14</td>\n",
       "      <td>OUT017</td>\n",
       "      <td>1226.511450</td>\n",
       "    </tr>\n",
       "    <tr>\n",
       "      <th>2</th>\n",
       "      <td>NCN55</td>\n",
       "      <td>OUT010</td>\n",
       "      <td>592.647668</td>\n",
       "    </tr>\n",
       "    <tr>\n",
       "      <th>3</th>\n",
       "      <td>FDQ58</td>\n",
       "      <td>OUT017</td>\n",
       "      <td>2116.908021</td>\n",
       "    </tr>\n",
       "    <tr>\n",
       "      <th>4</th>\n",
       "      <td>FDY38</td>\n",
       "      <td>OUT027</td>\n",
       "      <td>6771.263276</td>\n",
       "    </tr>\n",
       "  </tbody>\n",
       "</table>\n",
       "</div>"
      ],
      "text/plain": [
       "  Item_Identifier Outlet_Identifier  Item_Outlet_Sales_log\n",
       "0           FDW58            OUT049            1451.360336\n",
       "1           FDW14            OUT017            1226.511450\n",
       "2           NCN55            OUT010             592.647668\n",
       "3           FDQ58            OUT017            2116.908021\n",
       "4           FDY38            OUT027            6771.263276"
      ]
     },
     "execution_count": 450,
     "metadata": {},
     "output_type": "execute_result"
    }
   ],
   "source": [
    "sub['Item_Outlet_Sales_log'] = np.exp(sub['Item_Outlet_Sales_log']) \n",
    "sub.head()"
   ]
  },
  {
   "cell_type": "code",
   "execution_count": 452,
   "metadata": {},
   "outputs": [
    {
     "name": "stdout",
     "output_type": "stream",
     "text": [
      "file Created\n"
     ]
    }
   ],
   "source": [
    "sub.to_csv('D:\\\\Ashish\\\\Projects\\\\Hackethon Problems\\\\BigMart_Regression_problem\\\\Algo1.csv' , index = False)\n",
    "print('file Created')"
   ]
  },
  {
   "cell_type": "code",
   "execution_count": 453,
   "metadata": {},
   "outputs": [
    {
     "name": "stdout",
     "output_type": "stream",
     "text": [
      "\n",
      " Model Report\n",
      "RMSE : 0.5403\n",
      "CV Score : Mean - 0.8452 | Std - 0.01783 | Min - 0.8121 | Max - 0.8839\n"
     ]
    },
    {
     "data": {
      "image/png": "[encoded data removed]",
      "text/plain": [
       "<Figure size 432x288 with 1 Axes>"
      ]
     },
     "metadata": {
      "needs_background": "light"
     },
     "output_type": "display_data"
    }
   ],
   "source": [
    "from sklearn.linear_model import LinearRegression , Ridge , Lasso\n",
    "from sklearn.metrics import mean_squared_error\n",
    "\n",
    "filename = 'D:\\\\Ashish\\\\Projects\\\\Hackethon Problems\\\\BigMart_Regression_problem\\\\Algo2.csv'\n",
    "predictors = [x for x in df_train.columns if x not in [target]+Id_Cols]\n",
    "\n",
    "algo = Ridge(alpha=0.05, normalize=True)\n",
    "\n",
    "ModelFit(algo , df_train , df_test , predictors , target , Id_Cols , filename )\n",
    "\n",
    "coef1 = pd.Series(algo.coef_, predictors).sort_values()\n",
    "coef1.plot(kind='bar' , title = 'Model Coefficient')\n",
    "plt.show()"
   ]
  },
  {
   "cell_type": "code",
   "execution_count": 456,
   "metadata": {},
   "outputs": [
    {
     "name": "stdout",
     "output_type": "stream",
     "text": [
      "\n",
      " Model Report\n",
      "RMSE : 0.5128\n",
      "CV Score : Mean - 0.8531 | Std - 0.01694 | Min - 0.8241 | Max - 0.8898\n"
     ]
    },
    {
     "data": {
      "image/png": "[encoded data removed]",
      "text/plain": [
       "<Figure size 432x288 with 1 Axes>"
      ]
     },
     "metadata": {
      "needs_background": "light"
     },
     "output_type": "display_data"
    }
   ],
   "source": [
    "from sklearn.tree import DecisionTreeRegressor\n",
    "\n",
    "filename = 'D:\\\\Ashish\\\\Projects\\\\Hackethon Problems\\\\BigMart_Regression_problem\\\\Algo3.csv'\n",
    "predictors = [x for x in df_train.columns if x not in [target]+Id_Cols]\n",
    "\n",
    "algo = DecisionTreeRegressor(max_depth=15 , min_samples_leaf=100)\n",
    "\n",
    "ModelFit(algo , df_train , df_test , predictors , target , Id_Cols , filename )\n",
    "\n",
    "coef1 = pd.Series(algo.feature_importances_, predictors).sort_values()\n",
    "coef1.plot(kind='bar' , title = 'Model Coefficient')\n",
    "plt.show()"
   ]
  },
  {
   "cell_type": "code",
   "execution_count": 458,
   "metadata": {},
   "outputs": [
    {
     "name": "stdout",
     "output_type": "stream",
     "text": [
      "\n",
      " Model Report\n",
      "RMSE : 0.521\n",
      "CV Score : Mean - 0.8499 | Std - 0.01729 | Min - 0.8207 | Max - 0.8844\n"
     ]
    },
    {
     "data": {
      "image/png": "[encoded data removed]",
      "text/plain": [
       "<Figure size 432x288 with 1 Axes>"
      ]
     },
     "metadata": {
      "needs_background": "light"
     },
     "output_type": "display_data"
    }
   ],
   "source": [
    "from sklearn.tree import DecisionTreeRegressor\n",
    "\n",
    "filename = 'D:\\\\Ashish\\\\Projects\\\\Hackethon Problems\\\\BigMart_Regression_problem\\\\Algo4.csv'\n",
    "predictors = [x for x in df_train.columns if x not in [target]+Id_Cols]\n",
    "\n",
    "algo = DecisionTreeRegressor(max_depth=8 , min_samples_leaf=150)\n",
    "\n",
    "ModelFit(algo , df_train , df_test , predictors , target , Id_Cols , filename )\n",
    "\n",
    "coef1 = pd.Series(algo.feature_importances_, predictors).sort_values()\n",
    "coef1.plot(kind='bar' , title = 'Model Coefficient')\n",
    "plt.show()"
   ]
  },
  {
   "cell_type": "code",
   "execution_count": 459,
   "metadata": {},
   "outputs": [
    {
     "name": "stdout",
     "output_type": "stream",
     "text": [
      "\n",
      " Model Report\n",
      "RMSE : 0.5221\n",
      "CV Score : Mean - 0.8533 | Std - 0.0165 | Min - 0.824 | Max - 0.8882\n"
     ]
    },
    {
     "data": {
      "image/png": "[encoded data removed]",
      "text/plain": [
       "<Figure size 432x288 with 1 Axes>"
      ]
     },
     "metadata": {
      "needs_background": "light"
     },
     "output_type": "display_data"
    }
   ],
   "source": [
    "from sklearn.ensemble import RandomForestRegressor\n",
    "\n",
    "filename = 'D:\\\\Ashish\\\\Projects\\\\Hackethon Problems\\\\BigMart_Regression_problem\\\\Algo5.csv'\n",
    "predictors = [x for x in df_train.columns if x not in [target]+Id_Cols]\n",
    "\n",
    "algo = RandomForestRegressor(n_estimators = 200 , max_depth=5 , min_samples_leaf=100 , n_jobs=4)\n",
    "\n",
    "ModelFit(algo , df_train , df_test , predictors , target , Id_Cols , filename )\n",
    "\n",
    "coef1 = pd.Series(algo.feature_importances_, predictors).sort_values()\n",
    "coef1.plot(kind='bar' , title = 'Model Coefficient')\n",
    "plt.show()"
   ]
  },
  {
   "cell_type": "code",
   "execution_count": 460,
   "metadata": {},
   "outputs": [
    {
     "name": "stdout",
     "output_type": "stream",
     "text": [
      "file Created\n"
     ]
    }
   ],
   "source": [
    "sub = pd.read_csv('D:\\\\Ashish\\\\Projects\\\\Hackethon Problems\\\\BigMart_Regression_problem\\\\Algo5.csv')\n",
    "sub['Item_Outlet_Sales_log'] = np.exp(sub['Item_Outlet_Sales_log']) \n",
    "sub.columns = ['Item_Identifier','Outlet_Identifier', 'Item_Outlet_Sales']\n",
    "sub.to_csv('D:\\\\Ashish\\\\Projects\\\\Hackethon Problems\\\\BigMart_Regression_problem\\\\Algo5.csv' , index = False)\n",
    "print('file Created')"
   ]
  },
  {
   "cell_type": "code",
   "execution_count": 463,
   "metadata": {},
   "outputs": [
    {
     "data": {
      "text/plain": [
       "Item_Identifier        NCZ54\n",
       "Outlet_Identifier     OUT049\n",
       "Item_Outlet_Sales    5478.39\n",
       "dtype: object"
      ]
     },
     "execution_count": 463,
     "metadata": {},
     "output_type": "execute_result"
    }
   ],
   "source": [
    "x = pd.read_csv('D:\\\\Ashish\\\\Projects\\\\Hackethon Problems\\\\BigMart_Regression_problem\\\\Algo5.csv')\n",
    "x.max()"
   ]
  },
  {
   "cell_type": "code",
   "execution_count": 464,
   "metadata": {},
   "outputs": [
    {
     "name": "stdout",
     "output_type": "stream",
     "text": [
      "\n",
      " Model Report\n",
      "RMSE : 0.5189\n",
      "CV Score : Mean - 0.854 | Std - 0.01639 | Min - 0.8251 | Max - 0.8889\n"
     ]
    },
    {
     "data": {
      "image/png": "[encoded data removed]",
      "text/plain": [
       "<Figure size 432x288 with 1 Axes>"
      ]
     },
     "metadata": {
      "needs_background": "light"
     },
     "output_type": "display_data"
    }
   ],
   "source": [
    "from sklearn.ensemble import RandomForestRegressor\n",
    "\n",
    "filename = 'D:\\\\Ashish\\\\Projects\\\\Hackethon Problems\\\\BigMart_Regression_problem\\\\Algo6.csv'\n",
    "predictors = [x for x in df_train.columns if x not in [target]+Id_Cols]\n",
    "\n",
    "algo = RandomForestRegressor(n_estimators = 400 , max_depth=6 , min_samples_leaf=100 , n_jobs=4)\n",
    "\n",
    "ModelFit(algo , df_train , df_test , predictors , target , Id_Cols , filename )\n",
    "\n",
    "coef1 = pd.Series(algo.feature_importances_, predictors).sort_values()\n",
    "coef1.plot(kind='bar' , title = 'Model Coefficient')\n",
    "plt.show()"
   ]
  },
  {
   "cell_type": "code",
   "execution_count": 465,
   "metadata": {},
   "outputs": [
    {
     "name": "stdout",
     "output_type": "stream",
     "text": [
      "file Created\n"
     ]
    }
   ],
   "source": [
    "sub = pd.read_csv('D:\\\\Ashish\\\\Projects\\\\Hackethon Problems\\\\BigMart_Regression_problem\\\\Algo6.csv')\n",
    "sub['Item_Outlet_Sales_log'] = np.exp(sub['Item_Outlet_Sales_log']) \n",
    "sub.columns = ['Item_Identifier','Outlet_Identifier', 'Item_Outlet_Sales']\n",
    "sub.to_csv('D:\\\\Ashish\\\\Projects\\\\Hackethon Problems\\\\BigMart_Regression_problem\\\\Algo6.csv' , index = False)\n",
    "print('file Created')"
   ]
  },
  {
   "cell_type": "code",
   "execution_count": null,
   "metadata": {},
   "outputs": [],
   "source": []
  }
 ],
 "metadata": {
  "kernelspec": {
   "display_name": "Python 3",
   "language": "python",
   "name": "python3"
  },
  "language_info": {
   "codemirror_mode": {
    "name": "ipython",
    "version": 3
   },
   "file_extension": ".py",
   "mimetype": "text/x-python",
   "name": "python",
   "nbconvert_exporter": "python",
   "pygments_lexer": "ipython3",
   "version": "3.7.6"
  }
 },
 "nbformat": 4,
 "nbformat_minor": 4
}
